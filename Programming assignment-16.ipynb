{
 "cells": [
  {
   "cell_type": "code",
   "execution_count": 1,
   "id": "f6e95644",
   "metadata": {},
   "outputs": [
    {
     "name": "stdout",
     "output_type": "stream",
     "text": [
      "Enter string: grggerg\n",
      "gr...gr...grggerg?\n"
     ]
    }
   ],
   "source": [
    "# Question1. Write a function that stutters a word as if someone is struggling to read it. The\n",
    "# first two letters are repeated twice with an ellipsis ... and space after each, and then the\n",
    "# word is pronounced with a question mark ?.\n",
    "# ANS-->\n",
    "def shutter(string):\n",
    "    return (2*(string[0:2]+'...'))+string+'?'\n",
    "string=str(input(\"Enter string: \"))\n",
    "print(shutter(string))"
   ]
  },
  {
   "cell_type": "code",
   "execution_count": 2,
   "id": "4613b6c2",
   "metadata": {},
   "outputs": [
    {
     "name": "stdout",
     "output_type": "stream",
     "text": [
      "Enter the radian: 4545\n",
      "degree = 260362.38140717894\n"
     ]
    }
   ],
   "source": [
    "# Question 2.Create a function that takes an angle in radians and returns the corresponding\n",
    "# angle in degrees rounded to one decimal place.\n",
    "# ANS-->\n",
    "def rad_to_degree(rad):\n",
    "    pi=3.142159\n",
    "    degree=rad*(180/pi)\n",
    "    return degree\n",
    "\n",
    "rad=float(input(\"Enter the radian: \"))\n",
    "print(\"degree =\",(rad_to_degree(rad)))"
   ]
  },
  {
   "cell_type": "code",
   "execution_count": 4,
   "id": "3b5e33ae",
   "metadata": {},
   "outputs": [
    {
     "name": "stdout",
     "output_type": "stream",
     "text": [
      "Enter a number: 8\n",
      "8 is not a curzon number\n"
     ]
    }
   ],
   "source": [
    "# Question 3. In this challenge, establish if a given integer num is a Curzon number. If 1 plus\n",
    "# 2 elevated to num is exactly divisible by 1 plus 2 multiplied by num, then num is a Curzon\n",
    "# number.\n",
    "# Given a non-negative integer num, implement a function that returns True if num is a Curzon\n",
    "# number, or False otherwise.\n",
    "# ANS-->\n",
    "def check_curzon_num(n):\n",
    "    power,product=0,0\n",
    "    power=pow(2,n)+1\n",
    "    product=2*n+1\n",
    "    if (power%product==0):\n",
    "        print(n, \"is a curzon number\")\n",
    "    else:\n",
    "        print(n, \"is not a curzon number\")\n",
    "\n",
    "n=int(input('Enter a number: '))\n",
    "check_curzon_num(n)"
   ]
  },
  {
   "cell_type": "code",
   "execution_count": 7,
   "id": "297c3aa0",
   "metadata": {},
   "outputs": [
    {
     "name": "stdout",
     "output_type": "stream",
     "text": [
      "Enter the side of hexagon: 6\n"
     ]
    },
    {
     "data": {
      "text/plain": [
       "93.53074360871938"
      ]
     },
     "execution_count": 7,
     "metadata": {},
     "output_type": "execute_result"
    }
   ],
   "source": [
    "# Question 4.Given the side length x find the area of a hexagon.\n",
    "# ANS-->\n",
    "import math\n",
    "def area_of_hexagon(side):\n",
    "    return 3*math.sqrt(3)*side**2/2\n",
    "side=float(input('Enter the side of hexagon: '))\n",
    "area_of_hexagon(side)"
   ]
  },
  {
   "cell_type": "code",
   "execution_count": 9,
   "id": "fb2bdf73",
   "metadata": {},
   "outputs": [
    {
     "name": "stdout",
     "output_type": "stream",
     "text": [
      "0\n",
      "1\n",
      "10\n",
      "11\n",
      "100\n",
      "101\n",
      "110\n",
      "111\n",
      "1000\n",
      "1001\n"
     ]
    }
   ],
   "source": [
    "# Question 5. Create a function that returns a base-2 (binary) representation of a base-10\n",
    "# (decimal) string number. To convert is simple: ((2) means base-2 and (10) means base-10)\n",
    "# 010101001(2) = 1 + 8 + 32 + 128.\n",
    "# Going from right to left, the value of the most right bit is 1, now from that every bit to the left\n",
    "# will be x2 the value, value of an 8 bit binary numbers are (256, 128, 64, 32, 16, 8, 4, 2, 1).\n",
    "# ANS-->\n",
    "def decimal_binary(n):\n",
    "    return bin(n).replace(\"0b\",\"\")\n",
    "for i in range(0,10):\n",
    "    print(decimal_binary(i))"
   ]
  },
  {
   "cell_type": "code",
   "execution_count": null,
   "id": "c16d62af",
   "metadata": {},
   "outputs": [],
   "source": []
  },
  {
   "cell_type": "code",
   "execution_count": null,
   "id": "65ab2d6d",
   "metadata": {},
   "outputs": [],
   "source": []
  }
 ],
 "metadata": {
  "kernelspec": {
   "display_name": "Python 3 (ipykernel)",
   "language": "python",
   "name": "python3"
  },
  "language_info": {
   "codemirror_mode": {
    "name": "ipython",
    "version": 3
   },
   "file_extension": ".py",
   "mimetype": "text/x-python",
   "name": "python",
   "nbconvert_exporter": "python",
   "pygments_lexer": "ipython3",
   "version": "3.9.13"
  }
 },
 "nbformat": 4,
 "nbformat_minor": 5
}
