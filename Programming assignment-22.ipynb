{
 "cells": [
  {
   "cell_type": "code",
   "execution_count": 16,
   "id": "0f4f4303",
   "metadata": {},
   "outputs": [
    {
     "name": "stdout",
     "output_type": "stream",
     "text": [
      "[]\n"
     ]
    }
   ],
   "source": [
    "# Question1\n",
    "# Create a function that takes three parameters where:\n",
    "#  x is the start of the range (inclusive).\n",
    "#  y is the end of the range (inclusive).\n",
    "#  n is the divisor to be checked against.\n",
    "# Return an ordered list with numbers in the range that are divisible by the third parameter n.\n",
    "# Return an empty list if there are no numbers that are divisible by n.\n",
    "# ANS-->\n",
    "l=[]\n",
    "def list_operation(a,b,c):\n",
    "    for i in range(a,b):\n",
    "        if i%c==0:\n",
    "            l.append(i)\n",
    "    print(l)\n",
    "            \n",
    "        \n",
    "list_operation(15, 20, 7)"
   ]
  },
  {
   "cell_type": "code",
   "execution_count": 125,
   "id": "fb6f6c1d",
   "metadata": {},
   "outputs": [
    {
     "data": {
      "text/plain": [
       "True"
      ]
     },
     "execution_count": 125,
     "metadata": {},
     "output_type": "execute_result"
    }
   ],
   "source": [
    "# Question2\n",
    "# Create a function that takes in two lists and returns True if the second list follows the first list\n",
    "# by one element, and False otherwise. In other words, determine if the second list is the first\n",
    "# list shifted to the right by 1.\n",
    "# ANS-->\n",
    "def simon_says(list1,list2):\n",
    "    if list1[0:len(list1)-1]==list2[1:len(list2)]:\n",
    "        return True\n",
    "    return False\n",
    "\n",
    "\n",
    "simon_says([1, 2], [5, 1])"
   ]
  },
  {
   "cell_type": "code",
   "execution_count": 80,
   "id": "935c589f",
   "metadata": {},
   "outputs": [],
   "source": [
    "# Question3\n",
    "# A group of friends have decided to start a secret society. The name will be the first letter of\n",
    "# each of their names, sorted in alphabetical order.\n",
    "# Create a function that takes in a list of names and returns the name of the secret society.\n",
    "# ANS-->\n",
    "def society_name(list):\n",
    "    return ''.join(i[0] for i in sorted(list))"
   ]
  },
  {
   "cell_type": "code",
   "execution_count": 81,
   "id": "37d8cdfa",
   "metadata": {},
   "outputs": [
    {
     "data": {
      "text/plain": [
       "'AMS'"
      ]
     },
     "execution_count": 81,
     "metadata": {},
     "output_type": "execute_result"
    }
   ],
   "source": [
    "society_name(['Adam', 'Sarah', 'Malcolm'])"
   ]
  },
  {
   "cell_type": "code",
   "execution_count": 109,
   "id": "25245e94",
   "metadata": {},
   "outputs": [
    {
     "name": "stdout",
     "output_type": "stream",
     "text": [
      "True\n"
     ]
    }
   ],
   "source": [
    "# Question4\n",
    "# An isogram is a word that has no duplicate letters. Create a function that takes a string and\n",
    "# returns either True or False depending on whether or not it's an \"isogram\".\n",
    "# ANS-->\n",
    "lst=[]\n",
    "def is_isogram(str):\n",
    "    for i in str:\n",
    "        if i not in lst:\n",
    "            lst.append(i)\n",
    "            k=''.join(lst)\n",
    "    if str.upper==k.lower or str.lower==k.upper or str==k:\n",
    "        print(True)\n",
    "                \n",
    "    else:\n",
    "        print(False)\n",
    "        \n",
    "        \n",
    "is_isogram('algorithm')"
   ]
  },
  {
   "cell_type": "code",
   "execution_count": 124,
   "id": "1fe211e8",
   "metadata": {},
   "outputs": [
    {
     "data": {
      "text/plain": [
       "False"
      ]
     },
     "execution_count": 124,
     "metadata": {},
     "output_type": "execute_result"
    }
   ],
   "source": [
    "# Question5\n",
    "# Create a function that takes a string and returns True or False, depending on whether the\n",
    "# characters are in order or not.\n",
    "# ANS-->\n",
    "def is_in_order(str):\n",
    "    n=len(str)\n",
    "    c=[str[i] for i in range(len(str))]\n",
    "    c.sort()\n",
    "    for i in range(n):\n",
    "        if c[i]!=str[i]:\n",
    "            return False\n",
    "        \n",
    "is_in_order(\"xyxz\")"
   ]
  },
  {
   "cell_type": "code",
   "execution_count": null,
   "id": "6a8efdce",
   "metadata": {},
   "outputs": [],
   "source": []
  }
 ],
 "metadata": {
  "kernelspec": {
   "display_name": "Python 3 (ipykernel)",
   "language": "python",
   "name": "python3"
  },
  "language_info": {
   "codemirror_mode": {
    "name": "ipython",
    "version": 3
   },
   "file_extension": ".py",
   "mimetype": "text/x-python",
   "name": "python",
   "nbconvert_exporter": "python",
   "pygments_lexer": "ipython3",
   "version": "3.9.13"
  }
 },
 "nbformat": 4,
 "nbformat_minor": 5
}
