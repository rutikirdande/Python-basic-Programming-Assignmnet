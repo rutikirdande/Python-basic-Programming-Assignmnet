{
 "cells": [
  {
   "cell_type": "code",
   "execution_count": 31,
   "id": "d91786bf",
   "metadata": {},
   "outputs": [
    {
     "name": "stdout",
     "output_type": "stream",
     "text": [
      "[6, 7, 9, 1]\n"
     ]
    }
   ],
   "source": [
    "# Question1\n",
    "# Write a function that takes a list and a number as arguments. Add the number to the end of\n",
    "# the list, then remove the first element of the list. The function should then return the updated\n",
    "# list.\n",
    "# ANS-->\n",
    "\n",
    "def next_in_line(list,n):\n",
    "    list.pop(0)\n",
    "    list.append(n)\n",
    "    print(list)\n",
    "\n",
    "list1=[]\n",
    "next_in_line([5,6,7,9],1)"
   ]
  },
  {
   "cell_type": "code",
   "execution_count": 135,
   "id": "910e14ae",
   "metadata": {},
   "outputs": [
    {
     "data": {
      "text/plain": [
       "65700"
      ]
     },
     "execution_count": 135,
     "metadata": {},
     "output_type": "execute_result"
    }
   ],
   "source": [
    "# Question2\n",
    "# Create the function that takes a list of dictionaries and returns the sum of people's budgets.\n",
    "# ANS-->\n",
    "\n",
    "def get_budgets(list):\n",
    "    sum=0\n",
    "    for i in list:\n",
    "        for j , k in i.items():\n",
    "            if j=='budget':\n",
    "                sum=sum+k\n",
    "    return sum\n",
    "        \n",
    "    \n",
    "        \n",
    "        \n",
    "        \n",
    "list1=[]    \n",
    "\n",
    "\n",
    "get_budgets([\n",
    "{ \"name\": \"John\", \"age\": 21, \"budget\": 23000 },\n",
    "{ \"name\": \"Steve\", \"age\": 32, \"budget\": 40000 },\n",
    "{ \"name\": \"Martin\", \"age\": 16, \"budget\": 2700 }\n",
    "])"
   ]
  },
  {
   "cell_type": "code",
   "execution_count": 138,
   "id": "88328f4c",
   "metadata": {
    "scrolled": true
   },
   "outputs": [
    {
     "data": {
      "text/plain": [
       "105"
      ]
     },
     "execution_count": 138,
     "metadata": {},
     "output_type": "execute_result"
    }
   ],
   "source": [
    "# Question4\n",
    "# Suppose that you invest $10,000 for 10 years at an interest rate of 6% compounded monthly.\n",
    "# What will be the value of your investment at the end of the 10 year period?\n",
    "# Create a function that accepts the principal p, the term in years t, the interest rate r, and the\n",
    "# number of compounding periods per year n. The function returns the value at the end of term\n",
    "# rounded to the nearest cent.\n",
    "# For the example above:\n",
    "# compound_interest(10000, 10, 0.06, 12) ➞ 18193.97\n",
    "# Note that the interest rate is given as a decimal and n=12 because with monthly compounding\n",
    "# there are 12 periods per year. Compounding can also be done annually, quarterly, weekly, or\n",
    "# daily.\n",
    "# ANS-->\n",
    "\n",
    "def compound_interest(amt,years,interest,compPeriod):\n",
    "    future_value=amt*(1+(interest/compPeriod))**(years*compPeriod)\n",
    "    return round(future_value)\n",
    "\n",
    "\n",
    "compound_interest(100, 1, 0.05, 1)"
   ]
  },
  {
   "cell_type": "code",
   "execution_count": 84,
   "id": "6e21ff82",
   "metadata": {},
   "outputs": [
    {
     "name": "stdout",
     "output_type": "stream",
     "text": [
      "sum:  600\n"
     ]
    }
   ],
   "source": []
  },
  {
   "cell_type": "code",
   "execution_count": 127,
   "id": "5f883187",
   "metadata": {},
   "outputs": [],
   "source": [
    "# Question3\n",
    "# Create a function that takes a string and returns a string with its letters in alphabetical order.\n",
    "# ANS-->\n",
    "\n",
    "def alphabet_soup(str):\n",
    "    return ''.join(sorted(str))\n"
   ]
  },
  {
   "cell_type": "code",
   "execution_count": 128,
   "id": "6ed61415",
   "metadata": {},
   "outputs": [
    {
     "data": {
      "text/plain": [
       "'ehllo'"
      ]
     },
     "execution_count": 128,
     "metadata": {},
     "output_type": "execute_result"
    }
   ],
   "source": [
    "alphabet_soup('hello')"
   ]
  },
  {
   "cell_type": "code",
   "execution_count": 131,
   "id": "356dcc76",
   "metadata": {},
   "outputs": [
    {
     "data": {
      "text/plain": [
       "[9, 2, 16]"
      ]
     },
     "execution_count": 131,
     "metadata": {},
     "output_type": "execute_result"
    }
   ],
   "source": [
    "# Question5\n",
    "# Write a function that takes a list of elements and returns only the integers.\n",
    "# ANS-->\n",
    "\n",
    "def return_only_integer(lst):\n",
    "    intlst=[]\n",
    "    for i in lst:\n",
    "        if type(i)==int:\n",
    "            intlst.append(i)\n",
    "    return intlst\n",
    "\n",
    "\n",
    "return_only_integer([9, 2, 'space', 'car', 'lion', 16])"
   ]
  },
  {
   "cell_type": "code",
   "execution_count": null,
   "id": "b5fe5813",
   "metadata": {},
   "outputs": [],
   "source": []
  }
 ],
 "metadata": {
  "kernelspec": {
   "display_name": "Python 3 (ipykernel)",
   "language": "python",
   "name": "python3"
  },
  "language_info": {
   "codemirror_mode": {
    "name": "ipython",
    "version": 3
   },
   "file_extension": ".py",
   "mimetype": "text/x-python",
   "name": "python",
   "nbconvert_exporter": "python",
   "pygments_lexer": "ipython3",
   "version": "3.9.13"
  }
 },
 "nbformat": 4,
 "nbformat_minor": 5
}
