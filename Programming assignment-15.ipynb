{
 "cells": [
  {
   "cell_type": "code",
   "execution_count": 25,
   "id": "cc9312d1",
   "metadata": {},
   "outputs": [],
   "source": [
    "# Question 1:\n",
    "# Please write a program using generator to print the numbers which can be divisible by 5 and\n",
    "# 7 between 0 and n in comma separated form while n is input by console.\n",
    "# ANS-->\n",
    "class iter1:\n",
    "    def __init__(self):\n",
    "        pass\n",
    "    def divide(self,n):\n",
    "        for i in range(0,n):\n",
    "            if i%7==0 and i%5==0:\n",
    "                print(i,end=',')"
   ]
  },
  {
   "cell_type": "code",
   "execution_count": 26,
   "id": "91a71779",
   "metadata": {},
   "outputs": [],
   "source": [
    "a=iter1()"
   ]
  },
  {
   "cell_type": "code",
   "execution_count": 27,
   "id": "7a7c356b",
   "metadata": {},
   "outputs": [
    {
     "name": "stdout",
     "output_type": "stream",
     "text": [
      "0,35,70,"
     ]
    }
   ],
   "source": [
    "a.divide(100)"
   ]
  },
  {
   "cell_type": "code",
   "execution_count": 20,
   "id": "e699e2fa",
   "metadata": {},
   "outputs": [],
   "source": [
    "# Question 2:\n",
    "# Please write a program using generator to print the even numbers between 0 and n in comma\n",
    "# separated form while n is input by console.\n",
    "# ANS-->\n",
    "class iter2:\n",
    "    def __init__(self):\n",
    "        pass\n",
    "    def even(self,n):\n",
    "        for i in range(0,n+1):\n",
    "            if i%2==0:\n",
    "                print(i,end=',')"
   ]
  },
  {
   "cell_type": "code",
   "execution_count": 21,
   "id": "eda6ff81",
   "metadata": {},
   "outputs": [],
   "source": [
    "a1=iter2()"
   ]
  },
  {
   "cell_type": "code",
   "execution_count": 22,
   "id": "cabe40c1",
   "metadata": {},
   "outputs": [
    {
     "name": "stdout",
     "output_type": "stream",
     "text": [
      "0,2,4,6,8,10,"
     ]
    }
   ],
   "source": [
    "a1.even(10)"
   ]
  },
  {
   "cell_type": "code",
   "execution_count": null,
   "id": "149f00f9",
   "metadata": {},
   "outputs": [],
   "source": [
    "# Question 3:\n",
    "# The Fibonacci Sequence is computed based on the following formula:\n",
    "# f(n)=0 if n=0\n",
    "# f(n)=1 if n=1\n",
    "# f(n)=f(n-1)+f(n-2) if n>1\n",
    "# Please write a program using list comprehension to print the Fibonacci Sequence in comma\n",
    "# separated form with a given n input by console.\n",
    "# ANS-->\n",
    "def fib(n):\n",
    "    if n<0:\n",
    "        return \"incorrect output\"\n",
    "    elif n==0:\n",
    "        return 0\n",
    "    elif n==1 or n==2:\n",
    "        return 1\n",
    "    else:\n",
    "        return (fib(n-2)+fib(n-1))\n",
    "\n",
    "    \n",
    "    \n",
    "for i in range(10):\n",
    "    print(fib(i))"
   ]
  },
  {
   "cell_type": "code",
   "execution_count": null,
   "id": "055c8013",
   "metadata": {},
   "outputs": [],
   "source": [
    "# Question 4:\n",
    "# Assuming that we have some email addresses in the \"username@companyname.com\" format,\n",
    "# please write program to print the user name of a given email address. Both user names and\n",
    "# company names are composed of letters only.\n",
    "# ANS-->\n",
    "import re\n",
    "emailAddress = input()\n",
    "a=emailAddress.split('@')[0]\n",
    "pat2 = \"(\\w+)@(\\w+)\\.(com)\"\n",
    "r2 = re.match(pat2,emailAddress)\n",
    "print(a,r2.group(2))"
   ]
  },
  {
   "cell_type": "code",
   "execution_count": 18,
   "id": "36cd9744",
   "metadata": {},
   "outputs": [
    {
     "name": "stdout",
     "output_type": "stream",
     "text": [
      "16\n"
     ]
    }
   ],
   "source": [
    "# Question 5:\n",
    "# Define a class named Shape and its subclass Square. The Square class has an init function\n",
    "# which takes a length as argument. Both classes have a area function which can print the area\n",
    "# of the shape where Shapes area is 0 by default.\n",
    "# ANS-->\n",
    "class shape(object):\n",
    "    def __init__(self):\n",
    "        pass\n",
    "    def area(self):\n",
    "        return 0\n",
    "class square(shape):\n",
    "    def __init__(self,l):\n",
    "        shape.__init__(self)\n",
    "        self.length=l\n",
    "    def area(self):\n",
    "        return self.length*self.length\n",
    "asquare=square(4)\n",
    "print(asquare.area())\n",
    "    "
   ]
  }
 ],
 "metadata": {
  "kernelspec": {
   "display_name": "Python 3 (ipykernel)",
   "language": "python",
   "name": "python3"
  },
  "language_info": {
   "codemirror_mode": {
    "name": "ipython",
    "version": 3
   },
   "file_extension": ".py",
   "mimetype": "text/x-python",
   "name": "python",
   "nbconvert_exporter": "python",
   "pygments_lexer": "ipython3",
   "version": "3.9.13"
  }
 },
 "nbformat": 4,
 "nbformat_minor": 5
}
