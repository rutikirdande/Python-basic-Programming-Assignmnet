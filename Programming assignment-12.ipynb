{
 "cells": [
  {
   "cell_type": "code",
   "execution_count": 5,
   "id": "c056c70f",
   "metadata": {},
   "outputs": [
    {
     "name": "stdout",
     "output_type": "stream",
     "text": [
      "the original dictionary is : {'ineuron': [1, 2, 3, 4], 'is': [2, 3, 4, 5], 'best': [3, 4, 5, 6], 'for': [4, 5, 6, 7]}\n",
      "the unique values list is : [1, 2, 3, 4, 5, 6, 7]\n"
     ]
    }
   ],
   "source": [
    "# 1. Write a Python program to Extract Unique values dictionary values?\n",
    "# ANS-->\n",
    "test_dict={'ineuron':[1,2,3,4],\n",
    "         'is':[2,3,4,5],\n",
    "         'best':[3,4,5,6],\n",
    "         'for':[4,5,6,7]}\n",
    "print('The original dictionary is : '+ str(test_dict))\n",
    "\n",
    "x=list(test_dict.values())\n",
    "y=[]\n",
    "res=[]\n",
    "for i in x:\n",
    "    y.extend(i)\n",
    "for i in y:\n",
    "    if i not in res:\n",
    "        res.append(i)\n",
    "res.sort()\n",
    "\n",
    "print('The unique values list is : '+str(res))\n",
    "    \n"
   ]
  },
  {
   "cell_type": "code",
   "execution_count": 15,
   "id": "51acb4af",
   "metadata": {},
   "outputs": [
    {
     "name": "stdout",
     "output_type": "stream",
     "text": [
      "600\n"
     ]
    }
   ],
   "source": [
    "# 2. Write a Python program to find the sum of all items in a dictionary?\n",
    "# ANS-->\n",
    "test_dict1={'a':100,'b':200,'c':300}\n",
    "x=list(test_dict1.values())\n",
    "sum1=0\n",
    "y=[]\n",
    "for i in x:\n",
    "    sum1=sum1+i\n",
    "print(sum1)"
   ]
  },
  {
   "cell_type": "code",
   "execution_count": 17,
   "id": "d2dff66b",
   "metadata": {},
   "outputs": [
    {
     "name": "stdout",
     "output_type": "stream",
     "text": [
      "{'a': 1, 'b': 2, 'c': 3, 'd': 4, 'e': 5, 'f': 6}\n"
     ]
    }
   ],
   "source": [
    "# 3. Write a Python program to Merging two Dictionaries?\n",
    "# ANS-->\n",
    "dict_1={'a':1,'b':2,'c':3}\n",
    "dict_2={'d':4,'e':5,'f':6}\n",
    "print(dict_1 | dict_2)"
   ]
  },
  {
   "cell_type": "code",
   "execution_count": 19,
   "id": "57b395e9",
   "metadata": {},
   "outputs": [
    {
     "name": "stdout",
     "output_type": "stream",
     "text": [
      "The original dictionary is : {'month': [1, 2, 3], 'name': ['jan', 'feb', 'march']}\n",
      "Flattened dictinary : {1: 'jan', 2: 'feb', 3: 'march'}\n"
     ]
    }
   ],
   "source": [
    "# 4. Write a Python program to convert key-values list to flat dictionary?\n",
    "# ANS-->\n",
    "test_dict2={'month':[1,2,3],'name':['jan','feb','march']}\n",
    "\n",
    "print('The original dictionary is : '+str(test_dict2))\n",
    "\n",
    "x=list(test_dict2.values())\n",
    "a=x[0]\n",
    "b=x[1]\n",
    "d=dict()\n",
    "for i in range(0, len(a)):\n",
    "    d[a[i]]=b[i]\n",
    "    \n",
    "print('Flattened dictinary : '+str(d))"
   ]
  },
  {
   "cell_type": "code",
   "execution_count": 22,
   "id": "6b06b712",
   "metadata": {},
   "outputs": [
    {
     "name": "stdout",
     "output_type": "stream",
     "text": [
      "Resultant Dictionary : OrderedDict([('manjeet', '3'), ('akshat', '1'), ('nikhil', '2')])\n"
     ]
    }
   ],
   "source": [
    "# 5. Write a Python program to insertion at the beginning in OrderedDict?\n",
    "# ANS-->\n",
    "from collections import OrderedDict\n",
    "\n",
    "inordered_dict=OrderedDict([('akshat','1'), ('nikhil','2')])\n",
    "inordered_dict.update({'manjeet':'3'})\n",
    "inordered_dict.move_to_end('manjeet',last=False)\n",
    "\n",
    "print('Resultant Dictionary : '+str(inordered_dict))"
   ]
  },
  {
   "cell_type": "code",
   "execution_count": 23,
   "id": "ad6b3517",
   "metadata": {},
   "outputs": [
    {
     "name": "stdout",
     "output_type": "stream",
     "text": [
      "true\n"
     ]
    }
   ],
   "source": [
    "# 6. Write a Python program to check order of character in string using OrderedDict()?\n",
    "# ANS-->\n",
    "from collections import OrderedDict \n",
    "  \n",
    "def checkOrder(input, pattern): \n",
    "     \n",
    "    dict = OrderedDict.fromkeys(input) \n",
    "\n",
    "    ptrlen = 0\n",
    "    for key,value in dict.items(): \n",
    "        if (key == pattern[ptrlen]): \n",
    "            ptrlen = ptrlen + 1\n",
    "         \n",
    "        if (ptrlen == (len(pattern))): \n",
    "            return 'true'\n",
    "\n",
    "    return 'false'\n",
    "\n",
    "if __name__ == \"__main__\": \n",
    "    input = 'engineers rock'\n",
    "    pattern = 'er'\n",
    "    print (checkOrder(input,pattern)) "
   ]
  },
  {
   "cell_type": "code",
   "execution_count": 24,
   "id": "36acbc54",
   "metadata": {},
   "outputs": [
    {
     "name": "stdout",
     "output_type": "stream",
     "text": [
      "{'rajnish': 9, 'ravi': 10, 'sanjeev': 15, 'suraj': 32, 'yash': 2}\n"
     ]
    }
   ],
   "source": [
    "# 7. Write a Python program to sort Python Dictionaries by Key or Value?\n",
    "# ANS-->\n",
    "myDict = {'ravi': 10, 'rajnish': 9,\n",
    "        'sanjeev': 15, 'yash': 2, 'suraj': 32}\n",
    " \n",
    "myKeys = list(myDict.keys())\n",
    "myKeys.sort()\n",
    "sorted_dict = {i: myDict[i] for i in myKeys}\n",
    " \n",
    "print(sorted_dict)"
   ]
  },
  {
   "cell_type": "code",
   "execution_count": null,
   "id": "91a5769b",
   "metadata": {},
   "outputs": [],
   "source": []
  }
 ],
 "metadata": {
  "kernelspec": {
   "display_name": "Python 3 (ipykernel)",
   "language": "python",
   "name": "python3"
  },
  "language_info": {
   "codemirror_mode": {
    "name": "ipython",
    "version": 3
   },
   "file_extension": ".py",
   "mimetype": "text/x-python",
   "name": "python",
   "nbconvert_exporter": "python",
   "pygments_lexer": "ipython3",
   "version": "3.9.13"
  }
 },
 "nbformat": 4,
 "nbformat_minor": 5
}
