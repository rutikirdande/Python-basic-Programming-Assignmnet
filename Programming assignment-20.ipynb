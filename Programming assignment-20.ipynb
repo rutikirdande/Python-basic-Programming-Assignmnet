{
 "cells": [
  {
   "cell_type": "code",
   "execution_count": 16,
   "id": "549fd22e",
   "metadata": {},
   "outputs": [
    {
     "name": "stdout",
     "output_type": "stream",
     "text": [
      "[1, 2, 3]\n"
     ]
    }
   ],
   "source": [
    "# Question1\n",
    "# Create a function that takes a list of strings and integers, and filters out the list so that it\n",
    "# returns a list of integers only.\n",
    "# ANS-->\n",
    "\n",
    "def filter_list(list):\n",
    "    for i in list:\n",
    "        if type(i)==int:\n",
    "            list1.append(i)\n",
    "        else:\n",
    "            pass\n",
    "    print(list1)\n",
    "    \n",
    "list1=[]\n",
    "filter_list([1,2,3,\"d\"])\n"
   ]
  },
  {
   "cell_type": "code",
   "execution_count": null,
   "id": "16562fbb",
   "metadata": {},
   "outputs": [],
   "source": [
    "# Question2\n",
    "# Given a list of numbers, create a function which returns the list but with each element's\n",
    "# index in the list added to itself. This means you add 0 to the number at index 0, add 1 to the\n",
    "# number at index 1, etc...\n",
    "# ANS-->\n",
    "\n",
    "list1=[]\n",
    "list2=[1,2,3]\n",
    "for i in range(len(list2)):\n",
    "    for j in list2:\n",
    "        if j not in list1:\n",
    "            list1.append(i+j)\n",
    "print(list1)"
   ]
  },
  {
   "cell_type": "code",
   "execution_count": null,
   "id": "974c14e6",
   "metadata": {},
   "outputs": [],
   "source": [
    "# Question3\n",
    "# Create a function that takes the height and radius of a cone as arguments and returns the\n",
    "# volume of the cone rounded to the nearest hundredth. See the resources tab for the formula.\n",
    "# ANS-->\n",
    "\n",
    "def cone_volume(height, radius):\n",
    "    print(1/3*3.142*radius**2*height)\n",
    "height=float(input('Enter the heigth of cone: '))\n",
    "radius=float(input('Enter the radius of cone: '))\n",
    "cone_volume(height, radius)"
   ]
  },
  {
   "cell_type": "code",
   "execution_count": null,
   "id": "c50d87c6",
   "metadata": {},
   "outputs": [],
   "source": [
    "# Question4\n",
    "# This Triangular Number Sequence is generated from a pattern of dots that form a triangle.\n",
    "# The first 5 numbers of the sequence, or dots, are:\n",
    "# 1, 3, 6, 10, 15\n",
    "# This means that the first triangle has just one dot, the second one has three dots, the third one\n",
    "# has 6 dots and so on.\n",
    "# Write a function that gives the number of dots with its corresponding triangle number of the\n",
    "# sequence.\n",
    "# ANS-->\n",
    "\n",
    "def triangle(n):\n",
    "    return n*(n+1)*0.5\n",
    "\n",
    "n=int(input(\"Enter the triangle number: \"))\n",
    "print(\"the {}th traingle has {} dots \".format(n,int(triangle(n))))"
   ]
  },
  {
   "cell_type": "code",
   "execution_count": null,
   "id": "c3d990af",
   "metadata": {},
   "outputs": [],
   "source": [
    "# Question5\n",
    "# Create a function that takes a list of numbers between 1 and 10 (excluding one number) and\n",
    "# returns the missing number.\n",
    "# ANS-->\n",
    "\n",
    "def missing_num(lst):\n",
    "    total = sum([x for x in range(11)])\n",
    "    sum_Of_list = sum(lst)\n",
    "    return total - sum_Of_list\n",
    "\n",
    "print(missing_num([1, 2, 3, 4, 6, 7, 8, 9, 10]))\n"
   ]
  }
 ],
 "metadata": {
  "kernelspec": {
   "display_name": "Python 3 (ipykernel)",
   "language": "python",
   "name": "python3"
  },
  "language_info": {
   "codemirror_mode": {
    "name": "ipython",
    "version": 3
   },
   "file_extension": ".py",
   "mimetype": "text/x-python",
   "name": "python",
   "nbconvert_exporter": "python",
   "pygments_lexer": "ipython3",
   "version": "3.9.13"
  }
 },
 "nbformat": 4,
 "nbformat_minor": 5
}
