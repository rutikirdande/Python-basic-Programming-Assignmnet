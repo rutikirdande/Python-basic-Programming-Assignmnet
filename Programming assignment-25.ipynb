{
 "cells": [
  {
   "cell_type": "code",
   "execution_count": 31,
   "id": "0f413118",
   "metadata": {},
   "outputs": [
    {
     "data": {
      "text/plain": [
       "0"
      ]
     },
     "execution_count": 31,
     "metadata": {},
     "output_type": "execute_result"
    }
   ],
   "source": [
    "# Question1\n",
    "# Create a function that takes three integer arguments (a, b, c) and returns the amount of\n",
    "# integers which are of equal value.\n",
    "# Examples\n",
    "# equal(3, 4, 3) ➞ 2\n",
    "# equal(1, 1, 1) ➞ 3\n",
    "# equal(3, 4, 1) ➞ 0\n",
    "#ANS-->\n",
    "count=0\n",
    "def equal(a,b,c):\n",
    "    if a==b==c:\n",
    "        return 3\n",
    "    elif a==b or b==c or a==c:\n",
    "        return 2\n",
    "    else:\n",
    "        return 0\n",
    "    \n",
    "\n"
   ]
  },
  {
   "cell_type": "code",
   "execution_count": 151,
   "id": "86d3efd4",
   "metadata": {},
   "outputs": [],
   "source": [
    "# Question3\n",
    "# Write a function that creates a dictionary with each (key, value) pair being the (lower case,\n",
    "# upper case) versions of a letter, respectively.\n",
    "#ANS-->\n",
    "dict1={}\n",
    "def dict_to_list(list):\n",
    "    for i in list:\n",
    "        dict1[i]=i.swapcase()\n",
    "    print(dict1)\n",
    "    \n",
    "    "
   ]
  },
  {
   "cell_type": "code",
   "execution_count": 84,
   "id": "7fe041de",
   "metadata": {},
   "outputs": [],
   "source": [
    "# Question2\n",
    "# Write a function that converts a dictionary into a list of keys-values tuples.\n",
    "#ANS-->\n",
    "def dict_to_list(d):\n",
    "    return list(sorted(d.items()))"
   ]
  },
  {
   "cell_type": "markdown",
   "id": "3f2e6ce3",
   "metadata": {},
   "source": [
    "a"
   ]
  },
  {
   "cell_type": "code",
   "execution_count": 85,
   "id": "285b0f8a",
   "metadata": {},
   "outputs": [
    {
     "data": {
      "text/plain": [
       "[('B', 2), ('C', 3), ('D', 1)]"
      ]
     },
     "execution_count": 85,
     "metadata": {},
     "output_type": "execute_result"
    }
   ],
   "source": [
    "dict_to_list({\n",
    "    'D': 1,\n",
    "    'B': 2,\n",
    "    'C': 3\n",
    "    })"
   ]
  },
  {
   "cell_type": "code",
   "execution_count": 82,
   "id": "2a4e6610",
   "metadata": {},
   "outputs": [],
   "source": [
    "# Question4\n",
    "# Write a function, that replaces all vowels in a string with a specified vowel.\n",
    "# ANS-->\n",
    "def vowel_replace(s, char):\n",
    "    vowel=\"aeiouAEIOU\"\n",
    "    s1=[]\n",
    "    for i in range(len(s)):\n",
    "        if s[i] in vowel:\n",
    "            s1.append(char)\n",
    "        else:\n",
    "            s1.append(s[i])\n",
    "    return ''.join((s1))"
   ]
  },
  {
   "cell_type": "code",
   "execution_count": 83,
   "id": "6be19cae",
   "metadata": {},
   "outputs": [
    {
     "data": {
      "text/plain": [
       "'rutuk'"
      ]
     },
     "execution_count": 83,
     "metadata": {},
     "output_type": "execute_result"
    }
   ],
   "source": [
    "vowel_replace(\"rutik\",'u')"
   ]
  },
  {
   "cell_type": "code",
   "execution_count": 63,
   "id": "8123d305",
   "metadata": {},
   "outputs": [],
   "source": [
    "# Question5\n",
    "# Create a function that takes a string as input and capitalizes a letter if its ASCII code is even\n",
    "# and returns its lower case version if its ASCII code is odd.\n",
    "# ANS-->\n",
    "def ascii_capitalize(s):\n",
    "    s1 = []\n",
    "    for i in range(len(s)):\n",
    "        if ord(s[i]) % 2 == 0:\n",
    "            s1.append(s[i].upper())\n",
    "        else:\n",
    "            s1.append(s[i].lower())\n",
    "\n",
    "    return \"\".join((s1)"
   ]
  },
  {
   "cell_type": "code",
   "execution_count": 86,
   "id": "266822f6",
   "metadata": {},
   "outputs": [
    {
     "data": {
      "text/plain": [
       "'To Be oR NoT To Be'"
      ]
     },
     "execution_count": 86,
     "metadata": {},
     "output_type": "execute_result"
    }
   ],
   "source": [
    "ascii_capitalize('to be or not to be')"
   ]
  },
  {
   "cell_type": "code",
   "execution_count": null,
   "id": "d207f536",
   "metadata": {},
   "outputs": [],
   "source": []
  },
  {
   "cell_type": "code",
   "execution_count": null,
   "id": "86603265",
   "metadata": {},
   "outputs": [],
   "source": []
  }
 ],
 "metadata": {
  "kernelspec": {
   "display_name": "Python 3 (ipykernel)",
   "language": "python",
   "name": "python3"
  },
  "language_info": {
   "codemirror_mode": {
    "name": "ipython",
    "version": 3
   },
   "file_extension": ".py",
   "mimetype": "text/x-python",
   "name": "python",
   "nbconvert_exporter": "python",
   "pygments_lexer": "ipython3",
   "version": "3.9.13"
  }
 },
 "nbformat": 4,
 "nbformat_minor": 5
}
