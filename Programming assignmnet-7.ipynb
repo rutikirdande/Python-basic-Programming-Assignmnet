{
 "cells": [
  {
   "cell_type": "code",
   "execution_count": 12,
   "id": "c6fb9e63",
   "metadata": {},
   "outputs": [
    {
     "name": "stdout",
     "output_type": "stream",
     "text": [
      "1\n",
      "3\n",
      "6\n",
      "10\n",
      "15\n",
      "25\n"
     ]
    }
   ],
   "source": [
    "#1. Write a Python Program to find sum of array?\n",
    "#ANS-->\n",
    "\n",
    "def sum1(n):\n",
    "    sum=0\n",
    "    for i in n:\n",
    "        sum=sum+i\n",
    "        print(sum)\n",
    "n={1,2,3,4,5}\n",
    "sum1(n)"
   ]
  },
  {
   "cell_type": "code",
   "execution_count": 18,
   "id": "5477e329",
   "metadata": {},
   "outputs": [
    {
     "name": "stdout",
     "output_type": "stream",
     "text": [
      "enter the number of element in the array4\n",
      "1\n",
      "4\n",
      "5\n",
      "2\n",
      "[1, 4, 5, 2]\n",
      "largest element in array is:  5\n"
     ]
    }
   ],
   "source": [
    "#2. Write a Python Program to find largest element in an array?\n",
    "#ANS-->\n",
    "def large(arr,n):\n",
    "    lar=arr[0]\n",
    "    for i in range(1,n):\n",
    "        if lar<arr[i]:\n",
    "            lar=arr[i]\n",
    "    return lar\n",
    "\n",
    "\n",
    "\n",
    "arr=[]\n",
    "n=int(input('enter the number of element in the array'))\n",
    "for i in range(0,n):\n",
    "    ele=int(input())\n",
    "    arr.append(ele)\n",
    "print(arr)\n",
    "ans=large(arr,n)\n",
    "print('largest element in array is: ',ans)"
   ]
  },
  {
   "cell_type": "code",
   "execution_count": 92,
   "id": "511961a1",
   "metadata": {},
   "outputs": [
    {
     "name": "stdout",
     "output_type": "stream",
     "text": [
      "3 4 5 6 7 1 2 "
     ]
    }
   ],
   "source": [
    "#3. Write a Python Program for array rotation?\n",
    "#ANS-->\n",
    "\n",
    "def rotate(L, d, n):\n",
    "    k = L.index(d)\n",
    "    new_lis = []\n",
    "    new_lis = L[k+1:]+L[0:k+1]\n",
    "    return new_lis\n",
    " \n",
    "if __name__ == '__main__':\n",
    "    arr = [1, 2, 3, 4, 5, 6, 7]\n",
    "    d = 2\n",
    "    N = len(arr)\n",
    " \n",
    "    # Function call\n",
    "    arr = rotate(arr, d, N)\n",
    "    for i in arr:\n",
    "        print(i, end=\" \")\n",
    "        "
   ]
  },
  {
   "cell_type": "code",
   "execution_count": 132,
   "id": "07005444",
   "metadata": {},
   "outputs": [
    {
     "name": "stdout",
     "output_type": "stream",
     "text": [
      "[3, 4, 5, 6, 1]\n",
      "[3, 4, 5, 6, 1, 2]\n"
     ]
    }
   ],
   "source": [
    "#4. Write a Python Program to Split the array and add the first part to the end?\n",
    "#ANS-->\n",
    "arr=[1,2,3,4,5,6]\n",
    "d=6\n",
    "n=2\n",
    "arr1=[]\n",
    "for i in range(n,6):\n",
    "    arr1.append(arr[i])\n",
    "    \n",
    "for i in range(0,n):\n",
    "    arr1.append(arr[i])\n",
    "    print(arr1)"
   ]
  },
  {
   "cell_type": "code",
   "execution_count": 191,
   "id": "49bfa706",
   "metadata": {},
   "outputs": [
    {
     "name": "stdout",
     "output_type": "stream",
     "text": [
      "True\n"
     ]
    }
   ],
   "source": [
    "#5. Write a Python Program to check if given array is Monotonic?\n",
    "#ANS-->\n",
    "def ismonotonic(a):\n",
    "    x,y=[],[]\n",
    "    x.extend(a)\n",
    "    y.extend(a)\n",
    "    x.sort\n",
    "    y.sort(reverse=True)\n",
    "    if(x==a or y==a):\n",
    "        return True\n",
    "    return False\n",
    "a=[1,2,3,4,5]\n",
    "print(ismonotonic(a))"
   ]
  }
 ],
 "metadata": {
  "kernelspec": {
   "display_name": "Python 3 (ipykernel)",
   "language": "python",
   "name": "python3"
  },
  "language_info": {
   "codemirror_mode": {
    "name": "ipython",
    "version": 3
   },
   "file_extension": ".py",
   "mimetype": "text/x-python",
   "name": "python",
   "nbconvert_exporter": "python",
   "pygments_lexer": "ipython3",
   "version": "3.9.13"
  }
 },
 "nbformat": 4,
 "nbformat_minor": 5
}
