{
 "cells": [
  {
   "cell_type": "code",
   "execution_count": 94,
   "id": "af7065e6",
   "metadata": {},
   "outputs": [
    {
     "name": "stdout",
     "output_type": "stream",
     "text": [
      "rruuttiikk\n"
     ]
    }
   ],
   "source": [
    "# Question1\n",
    "# Create a function that takes a string and returns a string in which each character is repeated\n",
    "# once.\n",
    "# ANS-->\n",
    "\n",
    "def double_char(string):\n",
    "    return ''.join([i+i for i in string])\n",
    "print(double_char(\"rutik\"))"
   ]
  },
  {
   "cell_type": "code",
   "execution_count": 18,
   "id": "89e008b2",
   "metadata": {},
   "outputs": [
    {
     "name": "stdout",
     "output_type": "stream",
     "text": [
      "False\n",
      "True\n",
      "boolean expected\n",
      "boolean expected\n"
     ]
    }
   ],
   "source": [
    "# Question2\n",
    "# Create a function that reverses a boolean value and returns the string \"boolean expected\"\n",
    "# if another variable type is given.\n",
    "# ANS-->\n",
    "\n",
    "def reverse(bool1):\n",
    "    if type(bool1)==bool:\n",
    "        return not bool1\n",
    "    return 'boolean expected'\n",
    "        \n",
    "      \n",
    "print(reverse(True))\n",
    "      \n",
    "print(reverse(False))\n",
    "      \n",
    "print(reverse(0))\n",
    "      \n",
    "print(reverse(None))\n"
   ]
  },
  {
   "cell_type": "code",
   "execution_count": 43,
   "id": "71bce532",
   "metadata": {},
   "outputs": [
    {
     "name": "stdout",
     "output_type": "stream",
     "text": [
      "0.001m\n",
      "0.008m\n",
      "1048.576m\n"
     ]
    }
   ],
   "source": [
    "# Question3\n",
    "# Create a function that returns the thickness (in meters) of a piece of paper after folding it n\n",
    "# number of times. The paper starts off with a thickness of 0.5mm.\n",
    "# ANS-->\n",
    "\n",
    "def num_layers(n):\n",
    "    thickness = 0.5\n",
    "    for _ in range(n):\n",
    "        thickness *= 2\n",
    "    \n",
    "    return str(thickness / 1000)+'m' # for meters\n",
    "\n",
    "print(num_layers(1))\n",
    "print(num_layers(4))\n",
    "print(num_layers(21))"
   ]
  },
  {
   "cell_type": "code",
   "execution_count": 34,
   "id": "89fbb93e",
   "metadata": {},
   "outputs": [
    {
     "name": "stdout",
     "output_type": "stream",
     "text": [
      "Enter the string: xvdDD\n",
      "[3, 4]\n"
     ]
    }
   ],
   "source": [
    "# Question4\n",
    "# Create a function that takes a single string as argument and returns an ordered list containing\n",
    "# the indices of all capital letters in the string.\n",
    "# ANS-->\n",
    "\n",
    "def index_of_caps(string):\n",
    "    for i in range(len(string)):\n",
    "        if string[i].isupper():\n",
    "            list1.append(i)\n",
    "    print(list1)\n",
    "        \n",
    "        \n",
    "        \n",
    "list1=[]\n",
    "string=str(input(\"Enter the string: \"))\n",
    "index_of_caps(string)"
   ]
  },
  {
   "cell_type": "code",
   "execution_count": 42,
   "id": "a49c1bdf",
   "metadata": {},
   "outputs": [
    {
     "name": "stdout",
     "output_type": "stream",
     "text": [
      "Enter the number: 8\n",
      "[2, 4, 6, 8]\n"
     ]
    }
   ],
   "source": [
    "# Question5\n",
    "# Using list comprehensions, create a function that finds all even numbers from 1 to the given\n",
    "# number.\n",
    "# ANS-->\n",
    "\n",
    "def find_even_nums(n):\n",
    "    for i in range(1,n+1):\n",
    "        if i%2==0:\n",
    "            list1.append(i)\n",
    "    print(list1)\n",
    "            \n",
    "list1=[]\n",
    "n=int(input(\"Enter the number: \"))\n",
    "find_even_nums(n)\n",
    "    "
   ]
  },
  {
   "cell_type": "code",
   "execution_count": null,
   "id": "6d78c3eb",
   "metadata": {},
   "outputs": [],
   "source": [
    "\n"
   ]
  }
 ],
 "metadata": {
  "kernelspec": {
   "display_name": "Python 3 (ipykernel)",
   "language": "python",
   "name": "python3"
  },
  "language_info": {
   "codemirror_mode": {
    "name": "ipython",
    "version": 3
   },
   "file_extension": ".py",
   "mimetype": "text/x-python",
   "name": "python",
   "nbconvert_exporter": "python",
   "pygments_lexer": "ipython3",
   "version": "3.9.13"
  }
 },
 "nbformat": 4,
 "nbformat_minor": 5
}
