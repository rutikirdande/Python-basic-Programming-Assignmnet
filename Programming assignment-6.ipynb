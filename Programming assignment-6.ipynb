{
 "cells": [
  {
   "cell_type": "code",
   "execution_count": 6,
   "id": "12336b0a",
   "metadata": {},
   "outputs": [
    {
     "data": {
      "text/plain": [
       "55"
      ]
     },
     "execution_count": 6,
     "metadata": {},
     "output_type": "execute_result"
    }
   ],
   "source": [
    "#1. Write a Python Program to Display Fibonacci Sequence Using Recursion?\n",
    "#ANS-->\n",
    "def fib(n):\n",
    "    if n<0:\n",
    "        print(\"incorrect value: \")\n",
    "    elif n==0:\n",
    "        return 0\n",
    "    elif n==1 or n==2:\n",
    "        return 1\n",
    "    else:\n",
    "        return (fib(n-1)+fib(n-2))"
   ]
  },
  {
   "cell_type": "code",
   "execution_count": 3,
   "id": "5a4fa6c1",
   "metadata": {},
   "outputs": [
    {
     "name": "stdout",
     "output_type": "stream",
     "text": [
      "the factorial of  5 is 120\n"
     ]
    }
   ],
   "source": [
    "#2. Write a Python Program to Find Factorial of Number Using Recursion?\n",
    "#ANS-->\n",
    "def factorial(x):\n",
    "    \"\"\"this is a recursive function to find the factorial of an integer\"\"\"\n",
    "    if x==1:\n",
    "        return 1\n",
    "    else:\n",
    "        return(x*factorial(x-1))\n",
    "num=5\n",
    "print(\"the factorial of \", num, \"is\", factorial(num))"
   ]
  },
  {
   "cell_type": "code",
   "execution_count": 20,
   "id": "6de44db4",
   "metadata": {},
   "outputs": [
    {
     "name": "stdout",
     "output_type": "stream",
     "text": [
      "Enter height in kgs: 58\n",
      "Enter weight in ms: 1.75\n",
      "Body Mass Index is 18.93877551020408\n"
     ]
    }
   ],
   "source": [
    "#3. Write a Python Program to calculate your Body Mass Index?\n",
    "#ANS-->\n",
    "w=float(input(\"Enter height in kgs: \"))\n",
    "m=float(input(\"Enter weight in ms: \"))\n",
    "s=w/m**2\n",
    "print(\"Body Mass Index is\",s)\n"
   ]
  },
  {
   "cell_type": "code",
   "execution_count": 23,
   "id": "3e7ba8b4",
   "metadata": {
    "scrolled": true
   },
   "outputs": [
    {
     "name": "stdout",
     "output_type": "stream",
     "text": [
      "Enter the number to find the log: 5\n",
      "1.6094379124341003\n"
     ]
    }
   ],
   "source": [
    "#4. Write a Python Program to calculate the natural logarithm of any number?\n",
    "#ANS-->\n",
    "import math\n",
    "n=float(input(\"Enter the number to find the log: \"))\n",
    "print(math.log(n))"
   ]
  },
  {
   "cell_type": "code",
   "execution_count": 56,
   "id": "a5ea0d5a",
   "metadata": {},
   "outputs": [
    {
     "name": "stdout",
     "output_type": "stream",
     "text": [
      "Cube sum of the numbers 0 is 0\n",
      "Cube sum of the numbers 1 is 1\n",
      "Cube sum of the numbers 2 is 9\n",
      "Cube sum of the numbers 3 is 36\n",
      "Cube sum of the numbers 4 is 100\n",
      "Cube sum of the numbers 5 is 225\n"
     ]
    }
   ],
   "source": [
    "#5. Write a Python Program for cube sum of first n natural numbers?\n",
    "#ANS-->\n",
    "def sum1(n):\n",
    "    sum1=0\n",
    "    for i in range(n+1):\n",
    "        sum1=sum1+i**3\n",
    "        print(f'Cube sum of the numbers {i} is',sum1)\n",
    "sum1(5)"
   ]
  }
 ],
 "metadata": {
  "kernelspec": {
   "display_name": "Python 3 (ipykernel)",
   "language": "python",
   "name": "python3"
  },
  "language_info": {
   "codemirror_mode": {
    "name": "ipython",
    "version": 3
   },
   "file_extension": ".py",
   "mimetype": "text/x-python",
   "name": "python",
   "nbconvert_exporter": "python",
   "pygments_lexer": "ipython3",
   "version": "3.9.13"
  }
 },
 "nbformat": 4,
 "nbformat_minor": 5
}
