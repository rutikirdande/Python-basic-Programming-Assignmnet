{
 "cells": [
  {
   "cell_type": "code",
   "execution_count": 43,
   "id": "30214ce9",
   "metadata": {},
   "outputs": [
    {
     "name": "stdout",
     "output_type": "stream",
     "text": [
      "sum of the numbers is : 30\n"
     ]
    }
   ],
   "source": [
    "# Question1. Create a function that takes three arguments a, b, c and returns the sum of the\n",
    "# numbers that are evenly divided by c from the range a, b inclusive.\n",
    "# ANS-->\n",
    "\n",
    "def evenly_divisible(a,b,c):\n",
    "    sum=0\n",
    "    for i in range(a,b+1):\n",
    "        if i%c==0:\n",
    "            sum=sum+i\n",
    "    print(\"sum of the numbers is :\", sum)\n",
    "    \n",
    "    \n",
    "evenly_divisible(1,10,2)"
   ]
  },
  {
   "cell_type": "code",
   "execution_count": 44,
   "id": "e0c404af",
   "metadata": {},
   "outputs": [
    {
     "name": "stdout",
     "output_type": "stream",
     "text": [
      "False\n"
     ]
    }
   ],
   "source": [
    "# Question2. Create a function that returns True if a given inequality expression is correct and\n",
    "# False otherwise.\n",
    "# ANS-->\n",
    "\n",
    "def correct_signs(expression):\n",
    "    if expression is True:\n",
    "        print(True)\n",
    "    else:\n",
    "        print(False)\n",
    " \n",
    "\n",
    "correct_signs(3<4>5)"
   ]
  },
  {
   "cell_type": "code",
   "execution_count": 57,
   "id": "0e890a69",
   "metadata": {},
   "outputs": [
    {
     "name": "stdout",
     "output_type": "stream",
     "text": [
      "Enter the string: efef\n",
      "enter a vowel replacing string : *\n"
     ]
    },
    {
     "data": {
      "text/plain": [
       "'*f*f'"
      ]
     },
     "execution_count": 57,
     "metadata": {},
     "output_type": "execute_result"
    }
   ],
   "source": [
    "# Question3. Create a function that replaces all the vowels in a string with a specified character.\n",
    "# ANS-->\n",
    "\n",
    "def replace_vowels(string,s):\n",
    "    vowels='aeiouAEIOU'\n",
    "    for i in vowels:\n",
    "        string=string.replace(i,s)\n",
    "    return string\n",
    "string=str(input('Enter the string: ')) \n",
    "s = input(\"enter a vowel replacing string : \")\n",
    "replace_vowels(string,s)\n"
   ]
  },
  {
   "cell_type": "code",
   "execution_count": 3,
   "id": "7f703152",
   "metadata": {},
   "outputs": [],
   "source": [
    "# Question4. Write a function that calculates the factorial of a number recursively.\n",
    "# ANS-->\n",
    "\n",
    "def factorial(n):\n",
    "    if n==0:\n",
    "        return 1\n",
    "    else:\n",
    "        return ((n)*factorial(n-1))"
   ]
  },
  {
   "cell_type": "code",
   "execution_count": 4,
   "id": "ac3a6c72",
   "metadata": {},
   "outputs": [
    {
     "data": {
      "text/plain": [
       "120"
      ]
     },
     "execution_count": 4,
     "metadata": {},
     "output_type": "execute_result"
    }
   ],
   "source": [
    "factorial(5)"
   ]
  },
  {
   "cell_type": "code",
   "execution_count": 5,
   "id": "bed985d4",
   "metadata": {},
   "outputs": [
    {
     "name": "stdout",
     "output_type": "stream",
     "text": [
      "3\n"
     ]
    }
   ],
   "source": [
    "# Question 5\n",
    "# Hamming distance is the number of characters that differ between two strings.\n",
    "# To illustrate:\n",
    "# String1: 'abcbba'\n",
    "# String2: 'abcbda'\n",
    "# Hamming Distance: 1 - 'b' vs. 'd' is the only difference.\n",
    "# Create a function that computes the hamming distance between two strings.\n",
    "# ANS-->\n",
    "\n",
    "def hamming_distance(str1,str2):\n",
    "    i=0\n",
    "    count=0\n",
    "    while(i<len(str1)):\n",
    "        if (str1[i]!=str2[i]):\n",
    "            count+=1\n",
    "        i+=1\n",
    "    return count\n",
    "\n",
    "\n",
    "str1='ansns'\n",
    "str2='sdsds'\n",
    "\n",
    "print(hamming_distance(str1,str2))"
   ]
  }
 ],
 "metadata": {
  "kernelspec": {
   "display_name": "Python 3 (ipykernel)",
   "language": "python",
   "name": "python3"
  },
  "language_info": {
   "codemirror_mode": {
    "name": "ipython",
    "version": 3
   },
   "file_extension": ".py",
   "mimetype": "text/x-python",
   "name": "python",
   "nbconvert_exporter": "python",
   "pygments_lexer": "ipython3",
   "version": "3.9.13"
  }
 },
 "nbformat": 4,
 "nbformat_minor": 5
}
