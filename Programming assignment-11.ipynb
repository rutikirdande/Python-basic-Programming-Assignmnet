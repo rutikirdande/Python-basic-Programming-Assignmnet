{
 "cells": [
  {
   "cell_type": "code",
   "execution_count": 61,
   "id": "6b4afc8c",
   "metadata": {},
   "outputs": [
    {
     "name": "stdout",
     "output_type": "stream",
     "text": [
      "prabhakar\n",
      "irdande\n"
     ]
    }
   ],
   "source": [
    "#1. Write a Python program to find words which are greater than given length k?\n",
    "#ANS-->\n",
    "string=\"rutik prabhakar irdande \"\n",
    "lenght=5\n",
    "string1=string.split(\" \")\n",
    "for i in string1:\n",
    "    if len(i)>lenght:\n",
    "        print(i)\n"
   ]
  },
  {
   "cell_type": "code",
   "execution_count": 80,
   "id": "d15e03e9",
   "metadata": {},
   "outputs": [
    {
     "name": "stdout",
     "output_type": "stream",
     "text": [
      "The string after removal of ith character is : onneuronn\n"
     ]
    }
   ],
   "source": [
    "#2. Write a Python program for removing i-th character from a string?\n",
    "test_str = \"oneneuron\"\n",
    "if i!=2 in range(len(test)):\n",
    "    print(\"The string after removal of ith character is : \" + new+test[i])"
   ]
  },
  {
   "cell_type": "code",
   "execution_count": 83,
   "id": "1c907dcb",
   "metadata": {},
   "outputs": [
    {
     "data": {
      "text/plain": [
       "'rutik prabhakar irdande'"
      ]
     },
     "execution_count": 83,
     "metadata": {},
     "output_type": "execute_result"
    }
   ],
   "source": [
    "#3. Write a Python program to split and join a string?\n",
    "#ANS-->\n",
    "string2=\"rutik prabhakar irdande\"\n",
    "string2.split(\" \")\n",
    "\" \".join(string2)\n",
    "string2"
   ]
  },
  {
   "cell_type": "code",
   "execution_count": null,
   "id": "db2e336d",
   "metadata": {},
   "outputs": [],
   "source": [
    "#4. Write a Python to check if a given string is binary string or not?\n",
    "#ANS-->\n",
    "\n",
    "def check(str):\n",
    "    binary='01'\n",
    "    for i in range(len(str)):\n",
    "        if str[i] not in binary:\n",
    "            print('Not binary')\n",
    "            break\n",
    "    else:\n",
    "        print('Its a Binary')\n",
    "        \n",
    "str=input(\"Enter the string : \")\n",
    "check(str)"
   ]
  },
  {
   "cell_type": "code",
   "execution_count": null,
   "id": "7b3e461f",
   "metadata": {},
   "outputs": [],
   "source": [
    "# 5. Write a Python program to find uncommon words from two Strings?\n",
    "# ANS-->\n",
    "\n",
    "def unCommon(a,b):\n",
    "    list_a = a.split()\n",
    "    list_b = b.split()\n",
    "    unCom =''\n",
    "    \n",
    "    for i in list_a:\n",
    "        if i not in list_b:\n",
    "            unCom = unCom +\" \"+ i\n",
    "    for j in list_b:\n",
    "        if j not in list_a:\n",
    "            unCom = unCom +\" \"+ j\n",
    "    return unCom\n",
    "\n",
    "a = input(\"Enter the string a : \").lower()\n",
    "b = input(\"Enter the string b : \").lower()\n",
    "\n",
    "print(\"The list of un Common words : \", unCommon(a,b))  "
   ]
  },
  {
   "cell_type": "code",
   "execution_count": 10,
   "id": "5d3ead62",
   "metadata": {},
   "outputs": [
    {
     "name": "stdout",
     "output_type": "stream",
     "text": [
      "Enter the string a : dvssgggw\n"
     ]
    },
    {
     "data": {
      "text/plain": [
       "['s', 'g']"
      ]
     },
     "execution_count": 10,
     "metadata": {},
     "output_type": "execute_result"
    }
   ],
   "source": [
    "#6. Write a Python to find all duplicate characters in string?\n",
    "#ANS-->\n",
    "\n",
    "str=input(\"Enter the string a : \").lower()\n",
    "duplicate=[]\n",
    "\n",
    "for i in str:\n",
    "    if str.count(i)>1:\n",
    "        if i not in duplicate:\n",
    "            duplicate.append(i)\n",
    "duplicate\n",
    "    "
   ]
  },
  {
   "cell_type": "code",
   "execution_count": 9,
   "id": "377fe164",
   "metadata": {},
   "outputs": [
    {
     "name": "stdout",
     "output_type": "stream",
     "text": [
      "Enter the string a: dvdvd%T%\n",
      "string dvdvd%t% has special characters : ['%', '%']\n"
     ]
    }
   ],
   "source": [
    "#7. Write a Python Program to check if a string contains any special character?\n",
    "#ANS-->\n",
    "import string\n",
    "string_char= string.punctuation\n",
    "spChar=[]\n",
    "\n",
    "str=input(\"Enter the string a: \").lower()\n",
    "for i in str:\n",
    "    if i in string_char:\n",
    "        spChar.append(i)\n",
    "if len(spChar)>0:\n",
    "    print(\"string {} has special characters : {}\".format(str,spChar))"
   ]
  },
  {
   "cell_type": "code",
   "execution_count": null,
   "id": "9143dce1",
   "metadata": {},
   "outputs": [],
   "source": []
  }
 ],
 "metadata": {
  "kernelspec": {
   "display_name": "Python 3 (ipykernel)",
   "language": "python",
   "name": "python3"
  },
  "language_info": {
   "codemirror_mode": {
    "name": "ipython",
    "version": 3
   },
   "file_extension": ".py",
   "mimetype": "text/x-python",
   "name": "python",
   "nbconvert_exporter": "python",
   "pygments_lexer": "ipython3",
   "version": "3.9.13"
  }
 },
 "nbformat": 4,
 "nbformat_minor": 5
}
