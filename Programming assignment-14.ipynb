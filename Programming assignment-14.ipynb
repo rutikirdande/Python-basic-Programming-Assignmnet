{
 "cells": [
  {
   "cell_type": "code",
   "execution_count": 1,
   "id": "f2690c5f",
   "metadata": {},
   "outputs": [],
   "source": [
    "# Question 1:\n",
    "# Define a class with a generator which can iterate the numbers, which are divisible by\n",
    "# 7, between a given range 0 and n.\n",
    "# class Iter:\n",
    "    def __init__(self):\n",
    "        pass\n",
    "    def divide(self,n):\n",
    "        for i in range(0,n):\n",
    "            if i%7==0:\n",
    "                print(i)"
   ]
  },
  {
   "cell_type": "code",
   "execution_count": 2,
   "id": "f1b04c8e",
   "metadata": {},
   "outputs": [],
   "source": [
    "a=Iter()"
   ]
  },
  {
   "cell_type": "code",
   "execution_count": 3,
   "id": "cdb95fb9",
   "metadata": {},
   "outputs": [
    {
     "name": "stdout",
     "output_type": "stream",
     "text": [
      "0 ,\n",
      "7 ,\n",
      "14 ,\n",
      "21 ,\n",
      "28 ,\n",
      "35 ,\n",
      "42 ,\n",
      "49 ,\n"
     ]
    }
   ],
   "source": [
    "a.divide(55)"
   ]
  },
  {
   "cell_type": "code",
   "execution_count": 50,
   "id": "aa0d791b",
   "metadata": {},
   "outputs": [],
   "source": [
    "# Question 2:\n",
    "# Write a program to compute the frequency of the words from the input. The output\n",
    "# should output after sorting the key alphanumerically.\n",
    "# Suppose the following input is supplied to the program:\n",
    "# New to Python or choosing between Python 2 and Python 3? Read Python 2 or\n",
    "# Python 3.\n",
    "# Then, the output should be:\n",
    "# 2:2\n",
    "# 3.:1\n",
    "# 3?:1\n",
    "# New:1\n",
    "# Python:5\n",
    "# Read:1\n",
    "# and:1\n",
    "# between:1\n",
    "# choosing:1\n",
    "# or:2\n",
    "# to:1\n",
    "class freq:\n",
    "    def __init__(self):\n",
    "        pass\n",
    "    def func(self,str):\n",
    "        a=str.split()\n",
    "        a.sort()\n",
    "        for i in a:\n",
    "            count=a.count(i)\n",
    "            print(count,\":\",i)\n",
    "                \n",
    "          \n",
    "           "
   ]
  },
  {
   "cell_type": "code",
   "execution_count": 51,
   "id": "3507068d",
   "metadata": {},
   "outputs": [],
   "source": [
    "a=freq()"
   ]
  },
  {
   "cell_type": "code",
   "execution_count": 52,
   "id": "e8cc6219",
   "metadata": {},
   "outputs": [
    {
     "name": "stdout",
     "output_type": "stream",
     "text": [
      "1 : rrr\n",
      "2 : vv\n",
      "2 : vv\n"
     ]
    }
   ],
   "source": [
    "a.func('rrr vv  vv')"
   ]
  },
  {
   "cell_type": "code",
   "execution_count": 53,
   "id": "e1d131f3",
   "metadata": {},
   "outputs": [],
   "source": [
    "# Question 3:\n",
    "\n",
    "# Define a class Person and its two child classes: Male and Female. All classes have a\n",
    "# method 'getGender' which can 'printMale' for Male class and Female for Female\n",
    "# class.\n",
    "class person(object):\n",
    "    def getgender(self):\n",
    "        return \"unknown\"\n",
    "class male(person):\n",
    "    def getgender(self):\n",
    "        return \"Male\"\n",
    "class female(person):\n",
    "    def getgender(self):\n",
    "        return \"female\""
   ]
  },
  {
   "cell_type": "code",
   "execution_count": 2,
   "id": "6db8cfd6",
   "metadata": {},
   "outputs": [
    {
     "name": "stdout",
     "output_type": "stream",
     "text": [
      "I Play Hockey.\n",
      "I Play Football.\n",
      "I Love Hockey.\n",
      "I Love Football.\n",
      "You Play Hockey.\n",
      "You Play Football.\n",
      "You Love Hockey.\n",
      "You Love Football.\n"
     ]
    }
   ],
   "source": [
    "# Question 4:\n",
    "# Please write a program to generate all sentences where subject is in ['I', 'You'] and\n",
    "# verb is in ['Play', 'quotLove';] and the object is in ['Hockey','Football'].\n",
    "subjects=[\"I\",\"You\"]\n",
    "verbs=[\"Play\",\"Love\"]\n",
    "objects=[\"Hockey\",\"Football\"]\n",
    "for i in range(len(subjects)):\n",
    "    for j in range(len(verbs)):\n",
    "        for k in range(len(objects)):\n",
    "            sentences=\"%s %s %s.\" %(subjects[i],verbs[j],objects[k])\n",
    "            print(sentences)"
   ]
  },
  {
   "cell_type": "code",
   "execution_count": 3,
   "id": "cedd1fca",
   "metadata": {},
   "outputs": [
    {
     "name": "stdout",
     "output_type": "stream",
     "text": [
      "You Love Football.\n"
     ]
    }
   ],
   "source": [
    "sentences=\"%s %s %s.\" %(subjects[i],verbs[j],objects[k])\n",
    "print(sentences)"
   ]
  },
  {
   "cell_type": "code",
   "execution_count": 8,
   "id": "e224d874",
   "metadata": {},
   "outputs": [
    {
     "name": "stdout",
     "output_type": "stream",
     "text": [
      "b'x\\x9c\\xcbH\\xcd\\xc9\\xc9W(\\xcf/\\xcaIQ\\xcc \\x82\\r\\x00\\xbd[\\x11\\xf5'\n",
      "b'hello world!hello world!hello world!hello world!'\n"
     ]
    }
   ],
   "source": [
    "# Question 5:\n",
    "# Please write a program to compress and decompress the string 'hello world!hello\n",
    "# world!hello world!hello world!'.\n",
    "s = 'hello world!hello world!hello world!hello world!'\n",
    "y = bytes(s, 'utf-8')\n",
    "x = zlib.compress(y)\n",
    "print(x)\n",
    "print(zlib.decompress(x))"
   ]
  },
  {
   "cell_type": "code",
   "execution_count": 88,
   "id": "2c38a9b0",
   "metadata": {},
   "outputs": [
    {
     "name": "stdout",
     "output_type": "stream",
     "text": [
      "Element is present at index: 1\n"
     ]
    }
   ],
   "source": [
    "# Question 6:\n",
    "# Please write a binary search function which searches an item in a sorted list. The\n",
    "# function should return the index of element to be searched in the list.\n",
    "# def binary_function(array,x,low,high):\n",
    "     while low <= high:\n",
    "            mid = low + (high - low)//2\n",
    "            if array[mid]==x:\n",
    "                return mid\n",
    "            elif array[mid]<x:\n",
    "                low=mid+1\n",
    "            else:\n",
    "                high=mid-1\n",
    "     return -1\n",
    "\n",
    "\n",
    "array=[2,3,4,5,6,7,8]\n",
    "x=3\n",
    "result=binary_function(array,x,0,len(array)-1)\n",
    "if result!=-1:\n",
    "    print(\"Element is present at index: \"+str(result))\n",
    "else:\n",
    "    print(\"Element not found\")"
   ]
  },
  {
   "cell_type": "code",
   "execution_count": 91,
   "id": "8d96ad9a",
   "metadata": {},
   "outputs": [],
   "source": []
  },
  {
   "cell_type": "code",
   "execution_count": null,
   "id": "b11157b5",
   "metadata": {},
   "outputs": [],
   "source": []
  }
 ],
 "metadata": {
  "kernelspec": {
   "display_name": "Python 3 (ipykernel)",
   "language": "python",
   "name": "python3"
  },
  "language_info": {
   "codemirror_mode": {
    "name": "ipython",
    "version": 3
   },
   "file_extension": ".py",
   "mimetype": "text/x-python",
   "name": "python",
   "nbconvert_exporter": "python",
   "pygments_lexer": "ipython3",
   "version": "3.9.13"
  }
 },
 "nbformat": 4,
 "nbformat_minor": 5
}
