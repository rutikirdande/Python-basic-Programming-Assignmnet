{
 "cells": [
  {
   "cell_type": "code",
   "execution_count": 21,
   "id": "bebd5fd6",
   "metadata": {},
   "outputs": [
    {
     "name": "stdout",
     "output_type": "stream",
     "text": [
      "sum of list is 21\n"
     ]
    }
   ],
   "source": [
    "#1. Write a Python program to find sum of elements in list?\n",
    "#ANS-->\n",
    "lis=[1,2,3,4,5,6]\n",
    "sum1=0\n",
    "for i in range(0, len(lis)):\n",
    "    sum1=sum1+lis[i]\n",
    "print(\"sum of list is\",sum1)"
   ]
  },
  {
   "cell_type": "code",
   "execution_count": 23,
   "id": "54d30e41",
   "metadata": {},
   "outputs": [
    {
     "name": "stdout",
     "output_type": "stream",
     "text": [
      "multiplication of list is 40320\n"
     ]
    }
   ],
   "source": [
    "#2. Write a Python program to Multiply all numbers in the list?\n",
    "#ANS-->\n",
    "list1=[1,2,3,4,5,6,7,8]\n",
    "mul=1\n",
    "for i in range(0,len(list1)):\n",
    "    mul=mul*list1[i]\n",
    "print(\"multiplication of list is\",mul)"
   ]
  },
  {
   "cell_type": "code",
   "execution_count": 27,
   "id": "d9e3819f",
   "metadata": {},
   "outputs": [
    {
     "name": "stdout",
     "output_type": "stream",
     "text": [
      "smallest number in the list is 2\n"
     ]
    }
   ],
   "source": [
    "#3. Write a Python program to find smallest number in a list?\n",
    "#ANS-->\n",
    "list2=[2,3,4,5,8]\n",
    "list2.sort()\n",
    "print(\"smallest number in the list is\",list2[0])"
   ]
  },
  {
   "cell_type": "code",
   "execution_count": 29,
   "id": "90a35990",
   "metadata": {},
   "outputs": [
    {
     "name": "stdout",
     "output_type": "stream",
     "text": [
      "largest number in the list is 8\n"
     ]
    }
   ],
   "source": [
    "#4. Write a Python program to find largest number in a list?\n",
    "#ANS-->\n",
    "list3=[2,3,4,5,8]\n",
    "list3.sort()\n",
    "list3.reverse()\n",
    "print(\"largest number in the list is\",list3[0])"
   ]
  },
  {
   "cell_type": "code",
   "execution_count": 30,
   "id": "31f1d8b0",
   "metadata": {},
   "outputs": [
    {
     "name": "stdout",
     "output_type": "stream",
     "text": [
      "largest number in the list is 5\n"
     ]
    }
   ],
   "source": [
    "#5. Write a Python program to find second largest number in a list?\n",
    "#ANS-->\n",
    "list4=[2,3,4,5,8]\n",
    "list4.sort()\n",
    "list4.reverse()\n",
    "print(\"second largest number in the list is\",list4[1])"
   ]
  },
  {
   "cell_type": "code",
   "execution_count": 32,
   "id": "f2d3b121",
   "metadata": {},
   "outputs": [
    {
     "name": "stdout",
     "output_type": "stream",
     "text": [
      "enter which largest no. of element you want: 2\n",
      "N largest number in the list is 5\n"
     ]
    }
   ],
   "source": [
    "#6. Write a Python program to find N largest elements from a list?\n",
    "#ANS-->\n",
    "list4=[2,3,4,5,8]\n",
    "N=int(input(\"enter which largest no. of element you want: \"))\n",
    "list4.sort()\n",
    "list4.reverse()\n",
    "print(\"N largest number in the list is\",list4[N-1])"
   ]
  },
  {
   "cell_type": "code",
   "execution_count": null,
   "id": "1c6b312e",
   "metadata": {},
   "outputs": [],
   "source": [
    "#7. Write a Python program to print even numbers in a list?\n",
    "#ANS-->\n",
    "num=int(input(\"enter the number of element in the list: \"))\n",
    "for i in range(num):\n",
    "    ele=int(input())\n",
    "    if ele%2==0:\n",
    "        print(\"number is even\",True,ele)\n",
    "    else:\n",
    "        print(\"number is odd\",False,ele)"
   ]
  },
  {
   "cell_type": "code",
   "execution_count": null,
   "id": "b38d45ab",
   "metadata": {},
   "outputs": [],
   "source": [
    "#8. Write a Python program to print odd numbers in a List?\n",
    "#ANS-->\n",
    "num=int(input(\"enter the number of element in the list: \"))\n",
    "for i in range(num):\n",
    "    ele=int(input())\n",
    "    if ele%2!=0:\n",
    "        print(\"number is even\",False,ele)\n",
    "    else:\n",
    "        print(\"number is odd\",True,ele)"
   ]
  },
  {
   "cell_type": "code",
   "execution_count": 88,
   "id": "f1a968ee",
   "metadata": {},
   "outputs": [
    {
     "name": "stdout",
     "output_type": "stream",
     "text": [
      "The original list is : [5, 6, [], 3, [], [], 9]\n",
      "List after empty list removal : [5, 6, 3, 9]\n"
     ]
    }
   ],
   "source": [
    "#9. Write a Python program to Remove empty List from List?\n",
    "#ANS-->\n",
    "test_list = [5, 6, [], 3, [], [], 9]\n",
    "\n",
    "print(\"The original list is : \" + str(test_list))\n",
    "\n",
    "res = [ele for ele in test_list if ele != []]\n",
    "\n",
    "print(\"List after empty list removal : \" + str(res))"
   ]
  },
  {
   "cell_type": "code",
   "execution_count": 72,
   "id": "dfaa33c9",
   "metadata": {},
   "outputs": [
    {
     "name": "stdout",
     "output_type": "stream",
     "text": [
      "Original List: [1, 2, 3, 5, 7, 6, 54]\n",
      "After Cloning: [1, 2, 3, 5, 7, 6, 54]\n"
     ]
    }
   ],
   "source": [
    "#10. Write a Python program to Cloning or Copying a list?\n",
    "#ANS-->\n",
    "def Cloning(list1):\n",
    "    copy1 = list1[:]\n",
    "    return copy1\n",
    " \n",
    "list1 = [1,2,3,5,7,6,54]\n",
    "list2 = Cloning(list1)\n",
    "print(\"Original List:\", list1)\n",
    "print(\"After Cloning:\", list2)"
   ]
  },
  {
   "cell_type": "code",
   "execution_count": 87,
   "id": "80d43b8c",
   "metadata": {},
   "outputs": [
    {
     "name": "stdout",
     "output_type": "stream",
     "text": [
      "8 has occurred 5 times\n"
     ]
    }
   ],
   "source": [
    "#11. Write a Python program to Count occurrences of an element in a list?\n",
    "#ANS-->\n",
    "def countX(lst, x):\n",
    "    count = 0\n",
    "    for ele in lst:\n",
    "        if (ele == x):\n",
    "            count = count + 1\n",
    "    return count\n",
    "\n",
    "lst = [8, 6, 8, 10, 8, 20, 10, 8, 8]\n",
    "x = 8\n",
    "print('{} has occurred {} times'.format(x,countX(lst, x)))\n",
    "    "
   ]
  },
  {
   "cell_type": "code",
   "execution_count": null,
   "id": "654f5d17",
   "metadata": {},
   "outputs": [],
   "source": []
  }
 ],
 "metadata": {
  "kernelspec": {
   "display_name": "Python 3 (ipykernel)",
   "language": "python",
   "name": "python3"
  },
  "language_info": {
   "codemirror_mode": {
    "name": "ipython",
    "version": 3
   },
   "file_extension": ".py",
   "mimetype": "text/x-python",
   "name": "python",
   "nbconvert_exporter": "python",
   "pygments_lexer": "ipython3",
   "version": "3.9.13"
  }
 },
 "nbformat": 4,
 "nbformat_minor": 5
}
