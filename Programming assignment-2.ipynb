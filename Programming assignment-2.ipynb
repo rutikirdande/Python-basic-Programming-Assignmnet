{
 "cells": [
  {
   "cell_type": "code",
   "execution_count": 2,
   "id": "36a7555a",
   "metadata": {},
   "outputs": [
    {
     "name": "stdout",
     "output_type": "stream",
     "text": [
      "Enter value in km to convert into miles: 45\n",
      "Values in miles is: 27.96170355\n"
     ]
    }
   ],
   "source": [
    "#1. Write a Python program to convert kilometers to miles?\n",
    "#ANS-->\n",
    "kilometer=float(input(\"Enter value in km to convert into miles: \"))\n",
    "print(\"Values in miles is:\",kilometer*0.62137119)"
   ]
  },
  {
   "cell_type": "code",
   "execution_count": 3,
   "id": "94c23e3e",
   "metadata": {},
   "outputs": [
    {
     "name": "stdout",
     "output_type": "stream",
     "text": [
      "Enter the value in celsius: 45\n",
      "The value in Fahrenheit is: 113.0\n"
     ]
    }
   ],
   "source": [
    "#2. Write a Python program to convert Celsius to Fahrenheit?\n",
    "#ANS-->\n",
    "celsius=float(input(\"Enter the value in celsius: \"))\n",
    "print(\"The value in Fahrenheit is:\", celsius*1.8000+32.00)"
   ]
  },
  {
   "cell_type": "code",
   "execution_count": 1,
   "id": "9287eb55",
   "metadata": {},
   "outputs": [
    {
     "ename": "ModuleNotFoundError",
     "evalue": "No module named 'calender'",
     "output_type": "error",
     "traceback": [
      "\u001b[1;31m---------------------------------------------------------------------------\u001b[0m",
      "\u001b[1;31mModuleNotFoundError\u001b[0m                       Traceback (most recent call last)",
      "\u001b[1;32m~\\AppData\\Local\\Temp\\ipykernel_11260\\2523571831.py\u001b[0m in \u001b[0;36m<module>\u001b[1;34m\u001b[0m\n\u001b[0;32m      1\u001b[0m \u001b[1;31m#3. Write a Python program to display calendar?\u001b[0m\u001b[1;33m\u001b[0m\u001b[1;33m\u001b[0m\u001b[0m\n\u001b[0;32m      2\u001b[0m \u001b[1;31m#ANS-->\u001b[0m\u001b[1;33m\u001b[0m\u001b[1;33m\u001b[0m\u001b[0m\n\u001b[1;32m----> 3\u001b[1;33m \u001b[1;32mimport\u001b[0m \u001b[0mcalender\u001b[0m\u001b[1;33m\u001b[0m\u001b[1;33m\u001b[0m\u001b[0m\n\u001b[0m\u001b[0;32m      4\u001b[0m \u001b[0myy\u001b[0m\u001b[1;33m=\u001b[0m\u001b[1;36m2023\u001b[0m\u001b[1;33m\u001b[0m\u001b[1;33m\u001b[0m\u001b[0m\n\u001b[0;32m      5\u001b[0m \u001b[0mmm\u001b[0m\u001b[1;33m=\u001b[0m\u001b[1;36m2\u001b[0m\u001b[1;33m\u001b[0m\u001b[1;33m\u001b[0m\u001b[0m\n",
      "\u001b[1;31mModuleNotFoundError\u001b[0m: No module named 'calender'"
     ]
    }
   ],
   "source": [
    "#3. Write a Python program to display calendar?\n",
    "#ANS-->\n",
    "import calender\n",
    "yy=2023\n",
    "mm=2\n",
    "print(calender.month(yy,mm))"
   ]
  },
  {
   "cell_type": "code",
   "execution_count": 12,
   "id": "1065c74d",
   "metadata": {},
   "outputs": [
    {
     "name": "stdout",
     "output_type": "stream",
     "text": [
      "Enter a: 4\n",
      "Enter b: 5\n",
      "Enter c: 2\n",
      "the solution of the equation are (-0.625-0.33071891388307384j) and (-0.625+0.33071891388307384j) \n"
     ]
    }
   ],
   "source": [
    "#4. Write a Python program to solve quadratic equation?\n",
    "#ANS-->\n",
    "import cmath\n",
    "a=float(input(\"Enter a: \"))\n",
    "b=float(input(\"Enter b: \"))\n",
    "c=float(input(\"Enter c: \"))\n",
    "\n",
    "# calculate discriminant\n",
    "d=(b**2)-(4*a*c)\n",
    "\n",
    "#positive, negative solution\n",
    "sol1=(-b-cmath.sqrt(d))/(2*a)\n",
    "sol2=(-b+cmath.sqrt(d))/(2*a)\n",
    "\n",
    "print(\"the solution of the equation are {0} and {1} \".format(sol1,sol2))"
   ]
  },
  {
   "cell_type": "code",
   "execution_count": 46,
   "id": "12ff25bd",
   "metadata": {},
   "outputs": [
    {
     "name": "stdout",
     "output_type": "stream",
     "text": [
      "number1: 23\n",
      "number2: 32\n",
      "number1: 32\n",
      "number2: 23\n"
     ]
    }
   ],
   "source": [
    "#5. Write a Python program to swap two variables without temp variable?\n",
    "#ANS-->\n",
    "a=int(input('number1: '))\n",
    "b=int(input('number2: '))\n",
    "if a!=b:\n",
    "    print('number1:',b)\n",
    "    print('number2:',a)\n",
    "else:\n",
    "    print('number1:',a)\n",
    "    print('number2:',b)\n",
    "        \n",
    "    "
   ]
  },
  {
   "cell_type": "code",
   "execution_count": 22,
   "id": "f0225b10",
   "metadata": {},
   "outputs": [
    {
     "data": {
      "text/plain": [
       "'sudhanshu'"
      ]
     },
     "execution_count": 22,
     "metadata": {},
     "output_type": "execute_result"
    }
   ],
   "source": []
  },
  {
   "cell_type": "code",
   "execution_count": null,
   "id": "ad4df3de",
   "metadata": {},
   "outputs": [],
   "source": []
  }
 ],
 "metadata": {
  "kernelspec": {
   "display_name": "Python 3 (ipykernel)",
   "language": "python",
   "name": "python3"
  },
  "language_info": {
   "codemirror_mode": {
    "name": "ipython",
    "version": 3
   },
   "file_extension": ".py",
   "mimetype": "text/x-python",
   "name": "python",
   "nbconvert_exporter": "python",
   "pygments_lexer": "ipython3",
   "version": "3.9.13"
  }
 },
 "nbformat": 4,
 "nbformat_minor": 5
}
