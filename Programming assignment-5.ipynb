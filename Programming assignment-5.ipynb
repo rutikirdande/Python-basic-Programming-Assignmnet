{
 "cells": [
  {
   "cell_type": "code",
   "execution_count": 43,
   "id": "ec0c0d3e",
   "metadata": {},
   "outputs": [
    {
     "name": "stdout",
     "output_type": "stream",
     "text": [
      "enter num1: 25\n",
      "enter num2: 125\n",
      "125.0\n"
     ]
    }
   ],
   "source": [
    "#1. Write a Python Program to Find LCM?\n",
    "#ANS-->\n",
    "num1=int(input(\"enter num1: \"))\n",
    "num2=int(input(\"enter num2: \"))\n",
    "if num1>num2:\n",
    "    num=num1/num2\n",
    "    if (num*num1)%num1==0 and (num*num2)%num2==0:\n",
    "        print(num*num2)\n",
    "    else:\n",
    "        for i in range(1,num1):\n",
    "            if (num1*i)%num2==0:\n",
    "                print(num1*i)\n",
    "else:\n",
    "    num=num2/num1\n",
    "    if (num*num2)%num2==0 and (num*num1)%num1==0:\n",
    "        print(num*num1)\n",
    "    else:\n",
    "        for i in range(1,num2):\n",
    "            if (num2*i)%num1==0:\n",
    "                print(num2*i)\n"
   ]
  },
  {
   "cell_type": "code",
   "execution_count": 92,
   "id": "a04f1669",
   "metadata": {},
   "outputs": [],
   "source": [
    "#2. Write a Python Program to Find HCF?\n",
    "#ANS-->\n",
    "def find_HCF(a,b):\n",
    "    if a>b:\n",
    "        smaller=b\n",
    "    else:\n",
    "        smaller=a\n",
    "    for i in range(1,smaller+1):\n",
    "        if((a%i==0) and (b%i==0)):\n",
    "            hcf=i\n",
    "    return hcf\n",
    "\n",
    "    "
   ]
  },
  {
   "cell_type": "code",
   "execution_count": 80,
   "id": "8f94090d",
   "metadata": {},
   "outputs": [
    {
     "name": "stdout",
     "output_type": "stream",
     "text": [
      "Enter the number: 5\n",
      "The decimal value of 5 is:\n",
      "0b101 in binary.\n",
      "0o5 in octal.\n",
      "0x5 in hexadecimal.\n"
     ]
    }
   ],
   "source": [
    "#3. Write a Python Program to Convert Decimal to Binary, Octal and Hexadecimal?\n",
    "dec = int(input(\"Enter the number: \"))\n",
    "print(\"The decimal value of\", dec, \"is:\")\n",
    "print(bin(dec), \"in binary.\")\n",
    "print(oct(dec), \"in octal.\")\n",
    "print(hex(dec), \"in hexadecimal.\")"
   ]
  },
  {
   "cell_type": "code",
   "execution_count": 82,
   "id": "47a35b72",
   "metadata": {},
   "outputs": [
    {
     "name": "stdout",
     "output_type": "stream",
     "text": [
      "enter the character: k\n",
      "The ASCII value of 'k' is 107\n"
     ]
    }
   ],
   "source": [
    "#4. Write a Python Program To Find ASCII value of a character?\n",
    "c = str(input(\"enter the character: \"))\n",
    "print(\"The ASCII value of '\" + c + \"' is\", ord(c))"
   ]
  },
  {
   "cell_type": "code",
   "execution_count": 91,
   "id": "b839f1cf",
   "metadata": {},
   "outputs": [
    {
     "name": "stdout",
     "output_type": "stream",
     "text": [
      "Enter the first number: 77\n",
      "Enter the operator-(+, -, /, *):/\n",
      "Enter the second number: 77\n",
      "division of numbers is: 1.0\n"
     ]
    }
   ],
   "source": [
    "#5. Write a Python Program to Make a Simple Calculator with 4 basic mathematical operations?\n",
    "#ANS-->\n",
    "num1=float(input(\"Enter the first number: \"))\n",
    "Operator=input(\"Enter the operator-(+, -, /, *):\")\n",
    "num2=float(input(\"Enter the second number: \"))\n",
    "if Operator=='+':\n",
    "    print('addtion of numbers is:',num1+num2)\n",
    "elif Operator=='-':\n",
    "    print('substraction of numbers is:',num1-num2)\n",
    "elif Operator=='*':\n",
    "    print('multiplication of numbers is:',num1*num2)\n",
    "elif Operator=='/':\n",
    "    print('division of numbers is:',num1/num2)"
   ]
  },
  {
   "cell_type": "code",
   "execution_count": null,
   "id": "60ccd766",
   "metadata": {},
   "outputs": [],
   "source": []
  }
 ],
 "metadata": {
  "kernelspec": {
   "display_name": "Python 3 (ipykernel)",
   "language": "python",
   "name": "python3"
  },
  "language_info": {
   "codemirror_mode": {
    "name": "ipython",
    "version": 3
   },
   "file_extension": ".py",
   "mimetype": "text/x-python",
   "name": "python",
   "nbconvert_exporter": "python",
   "pygments_lexer": "ipython3",
   "version": "3.9.13"
  }
 },
 "nbformat": 4,
 "nbformat_minor": 5
}
