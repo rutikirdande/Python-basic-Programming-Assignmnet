{
 "cells": [
  {
   "cell_type": "code",
   "execution_count": 3,
   "id": "963b2660",
   "metadata": {},
   "outputs": [
    {
     "name": "stdout",
     "output_type": "stream",
     "text": [
      "Hello Python\n"
     ]
    }
   ],
   "source": [
    "#1. Write a Python program to print \"Hello Python\"?\n",
    "#ANS-->\n",
    "a=\"Hello Python\"\n",
    "print(str(a))"
   ]
  },
  {
   "cell_type": "code",
   "execution_count": 7,
   "id": "9e33f320",
   "metadata": {},
   "outputs": [
    {
     "name": "stdout",
     "output_type": "stream",
     "text": [
      "Enter first number: 12\n",
      "Enter the operator: +\n",
      "Enter second number: 78\n",
      "90.0\n"
     ]
    }
   ],
   "source": [
    "#2. Write a Python program to do arithmetical operations addition and division.?\n",
    "#ANS-->\n",
    "num1=float(input(\"Enter first number: \"))\n",
    "Operator=input(\"Enter the operator: \")\n",
    "num2=float(input(\"Enter second number: \"))\n",
    "if Operator=='+':\n",
    "    print(num1+num2)\n",
    "    \n",
    "if Operator=='/':\n",
    "    print(num1/num2)"
   ]
  },
  {
   "cell_type": "code",
   "execution_count": 8,
   "id": "0bae2846",
   "metadata": {},
   "outputs": [
    {
     "name": "stdout",
     "output_type": "stream",
     "text": [
      "Enter the base of the triangle: 45\n",
      "Enter the height of the triangle: 5\n",
      "Area of the  triangle:  112.5\n"
     ]
    }
   ],
   "source": [
    "#3. Write a Python program to find the area of a triangle?\n",
    "#ANS-->\n",
    "base=float(input(\"Enter the base of the triangle: \"))\n",
    "height=float(input(\"Enter the height of the triangle: \"))\n",
    "print(\"Area of the  triangle: \", 0.5*base*height)"
   ]
  },
  {
   "cell_type": "code",
   "execution_count": 44,
   "id": "b4cb26f1",
   "metadata": {},
   "outputs": [
    {
     "name": "stdout",
     "output_type": "stream",
     "text": [
      "ineuron\n",
      "data sci\n"
     ]
    }
   ],
   "source": [
    "#4. Write a Python program to swap two variables?\n",
    "#ANS-->\n",
    "a=\"ineuron\"\n",
    "b=\"data sci\"\n",
    "\n",
    "temp=a\n",
    "a=b\n",
    "b=temp\n",
    "\n",
    "print(b)\n",
    "print(a)"
   ]
  },
  {
   "cell_type": "code",
   "execution_count": 47,
   "id": "303b5cbf",
   "metadata": {},
   "outputs": [
    {
     "name": "stdout",
     "output_type": "stream",
     "text": [
      "0.18817275240868225\n"
     ]
    }
   ],
   "source": [
    "#5. Write a Python program to generate a random number?\n",
    "#ANS-->\n",
    "import random\n",
    "num=random.random()\n",
    "print(num)"
   ]
  },
  {
   "cell_type": "code",
   "execution_count": null,
   "id": "bdd56864",
   "metadata": {},
   "outputs": [],
   "source": [
    "\n"
   ]
  },
  {
   "cell_type": "code",
   "execution_count": null,
   "id": "11105808",
   "metadata": {},
   "outputs": [],
   "source": []
  }
 ],
 "metadata": {
  "kernelspec": {
   "display_name": "Python 3 (ipykernel)",
   "language": "python",
   "name": "python3"
  },
  "language_info": {
   "codemirror_mode": {
    "name": "ipython",
    "version": 3
   },
   "file_extension": ".py",
   "mimetype": "text/x-python",
   "name": "python",
   "nbconvert_exporter": "python",
   "pygments_lexer": "ipython3",
   "version": "3.9.13"
  }
 },
 "nbformat": 4,
 "nbformat_minor": 5
}
