{
 "cells": [
  {
   "cell_type": "code",
   "execution_count": 6,
   "id": "079e680c",
   "metadata": {},
   "outputs": [
    {
     "name": "stdout",
     "output_type": "stream",
     "text": [
      "[1, 2, 3]\n"
     ]
    }
   ],
   "source": [
    "# Question 1\n",
    "# Create a function that takes a list of non-negative integers and strings and return a new list\n",
    "# without the strings.\n",
    "# ANS-->\n",
    "\n",
    "def filter_list(list):\n",
    "    for i in list:\n",
    "        if type(i)==int:\n",
    "            list1.append(i)\n",
    "        else:\n",
    "            pass\n",
    "    print(list1)\n",
    "            \n",
    "list1=[]\n",
    "filter_list([1,2,3,\"a\",\"b\",\"c\"])"
   ]
  },
  {
   "cell_type": "code",
   "execution_count": 21,
   "id": "74f29622",
   "metadata": {},
   "outputs": [
    {
     "name": "stdout",
     "output_type": "stream",
     "text": [
      "Enter a string: gjykk\n",
      "KKYJG\n"
     ]
    }
   ],
   "source": [
    "# Question 2\n",
    "# The \"Reverser\" takes a string as input and returns that string in reverse order, with the\n",
    "# opposite case.\n",
    "# ANS-->\n",
    "\n",
    "def reverser(string):\n",
    "    string.split()\n",
    "    for i in string:\n",
    "        a=string.swapcase()\n",
    "    print(a[::-1])\n",
    "        \n",
    "string=str(input(\"Enter a string: \"))\n",
    "reverser(string)"
   ]
  },
  {
   "cell_type": "code",
   "execution_count": 35,
   "id": "85d3b106",
   "metadata": {},
   "outputs": [
    {
     "data": {
      "text/plain": [
       "1"
      ]
     },
     "execution_count": 35,
     "metadata": {},
     "output_type": "execute_result"
    }
   ],
   "source": [
    "# Question 3\n",
    "# You can assign variables from lists like this:\n",
    "# lst = [1, 2, 3, 4, 5, 6]\n",
    "# first = lst[0]\n",
    "# middle = lst[1:-1]\n",
    "# last = lst[-1]\n",
    "# print(first) ➞ outputs 1\n",
    "# print(middle) ➞ outputs [2, 3, 4, 5]\n",
    "# print(last) ➞ outputs 6\n",
    "# With Python 3, you can assign variables from lists in a much more succinct way. Create\n",
    "# variables first, middle and last from the given list using destructuring assignment\n",
    "# (check the Resources tab for some examples), where:\n",
    "# first ➞ 1\n",
    "# middle ➞ [2, 3, 4, 5]\n",
    "# last ➞ 6\n",
    "\n",
    "# Your task is to unpack the list writeyourcodehere into three variables, being first,\n",
    "# middle, and last, with middle being everything in between the first and last element. Then\n",
    "# print all three variables.\n",
    "# ANS-->\n",
    "\n",
    "lst = [1, 2, 3, 4, 5, 6]\n",
    "first ,*middle,last = lst\n",
    "first\n"
   ]
  },
  {
   "cell_type": "code",
   "execution_count": 36,
   "id": "3eac95fe",
   "metadata": {},
   "outputs": [
    {
     "data": {
      "text/plain": [
       "[2, 3, 4, 5]"
      ]
     },
     "execution_count": 36,
     "metadata": {},
     "output_type": "execute_result"
    }
   ],
   "source": [
    "middle"
   ]
  },
  {
   "cell_type": "code",
   "execution_count": 37,
   "id": "a2fe0892",
   "metadata": {},
   "outputs": [
    {
     "data": {
      "text/plain": [
       "6"
      ]
     },
     "execution_count": 37,
     "metadata": {},
     "output_type": "execute_result"
    }
   ],
   "source": [
    "last"
   ]
  },
  {
   "cell_type": "code",
   "execution_count": 24,
   "id": "a3739944",
   "metadata": {},
   "outputs": [
    {
     "name": "stdout",
     "output_type": "stream",
     "text": [
      "Enter the number: 5\n"
     ]
    },
    {
     "data": {
      "text/plain": [
       "120"
      ]
     },
     "execution_count": 24,
     "metadata": {},
     "output_type": "execute_result"
    }
   ],
   "source": [
    "# Question 4\n",
    "# Write a function that calculates the factorial of a number recursively.\n",
    "# ANS-->\n",
    "\n",
    "def factorial(n):\n",
    "     if n == 0:\n",
    "            return 1\n",
    "     else:\n",
    "        return n*factorial(n-1)\n",
    "\n",
    "\n",
    "n=int(input(\"Enter the number: \"))\n",
    "factorial(n)"
   ]
  },
  {
   "cell_type": "code",
   "execution_count": 31,
   "id": "19301397",
   "metadata": {},
   "outputs": [
    {
     "name": "stdout",
     "output_type": "stream",
     "text": [
      "7 8 9 3 9 2 1 4 4 4 4 "
     ]
    }
   ],
   "source": [
    "# Question 5\n",
    "# Write a function that moves all elements of one type to the end of the list.\n",
    "# ANS-->\n",
    "\n",
    "def move_to_end(array,n):\n",
    "    i=0\n",
    "    j=len(array)-1\n",
    "    while(i<j):\n",
    "        while(i<j and array[j]==n):\n",
    "            j-=1\n",
    "        if (array[i]==n):\n",
    "            array[i],array[j]=array[j],array[i]\n",
    "        \n",
    "        i+=1\n",
    "        \n",
    "    return array\n",
    "        \n",
    "\n",
    "array = [7, 8, 9, 4, 9,4,4, 1, 2, 3, 4]\n",
    "k = 4\n",
    "ans = move_to_end(array, k)\n",
    "for i in range(len(array)):\n",
    "    print(ans[i] ,end= \" \") "
   ]
  },
  {
   "cell_type": "code",
   "execution_count": null,
   "id": "abc17e50",
   "metadata": {},
   "outputs": [],
   "source": []
  },
  {
   "cell_type": "code",
   "execution_count": null,
   "id": "22ca973f",
   "metadata": {},
   "outputs": [],
   "source": []
  }
 ],
 "metadata": {
  "kernelspec": {
   "display_name": "Python 3 (ipykernel)",
   "language": "python",
   "name": "python3"
  },
  "language_info": {
   "codemirror_mode": {
    "name": "ipython",
    "version": 3
   },
   "file_extension": ".py",
   "mimetype": "text/x-python",
   "name": "python",
   "nbconvert_exporter": "python",
   "pygments_lexer": "ipython3",
   "version": "3.9.13"
  }
 },
 "nbformat": 4,
 "nbformat_minor": 5
}
